{
 "cells": [
  {
   "cell_type": "code",
   "execution_count": 1,
   "metadata": {},
   "outputs": [],
   "source": [
    "%load_ext autoreload\n",
    "%autoreload 2\n",
    "\n",
    "%matplotlib inline"
   ]
  },
  {
   "cell_type": "markdown",
   "metadata": {},
   "source": []
  },
  {
   "cell_type": "code",
   "execution_count": 2,
   "metadata": {},
   "outputs": [],
   "source": [
    "from fastai.imports import *\n",
    "from fastai.structured import *\n",
    "\n",
    "from pandas_summary import DataFrameSummary\n",
    "from sklearn.ensemble import RandomForestRegressor, RandomForestClassifier\n",
    "from IPython.display import display\n",
    "\n",
    "from sklearn import metrics\n",
    "import itertools\n",
    "matplotlib.rc('font', family='Tahoma')"
   ]
  },
  {
   "cell_type": "code",
   "execution_count": 3,
   "metadata": {},
   "outputs": [],
   "source": [
    "PATH = \"data/dead/\""
   ]
  },
  {
   "cell_type": "markdown",
   "metadata": {},
   "source": [
    "Import data ผู้บาดเจ็บและเสียชีวิต ในช่วงเทศกาลปีใหม่ ปี 2551-2558 , ข้อมูลพื้นฐานโรงพยาบาลในสังกัดสำนักงานปลัดกระทรวงสาธารณสุข ณ มกราคม 2560, then convert to csv and cut off redundant data from http://opendata.moph.go.th/#"
   ]
  },
  {
   "cell_type": "code",
   "execution_count": 4,
   "metadata": {},
   "outputs": [],
   "source": [
    "df_raw = pd.read_excel(f'{PATH}ny.xlsx')"
   ]
  },
  {
   "cell_type": "code",
   "execution_count": 5,
   "metadata": {},
   "outputs": [],
   "source": [
    "def display_all(df):\n",
    "    with pd.option_context(\"display.max_rows\", 1000, \"display.max_columns\", 1000): \n",
    "        display(df)"
   ]
  },
  {
   "cell_type": "code",
   "execution_count": 6,
   "metadata": {},
   "outputs": [
    {
     "data": {
      "text/html": [
       "<div>\n",
       "<style scoped>\n",
       "    .dataframe tbody tr th:only-of-type {\n",
       "        vertical-align: middle;\n",
       "    }\n",
       "\n",
       "    .dataframe tbody tr th {\n",
       "        vertical-align: top;\n",
       "    }\n",
       "\n",
       "    .dataframe thead th {\n",
       "        text-align: right;\n",
       "    }\n",
       "</style>\n",
       "<table border=\"1\" class=\"dataframe\">\n",
       "  <thead>\n",
       "    <tr style=\"text-align: right;\">\n",
       "      <th></th>\n",
       "      <th>ชื่อเทศกาล</th>\n",
       "      <th>รหัสจังหวัด</th>\n",
       "      <th>จังหวัด</th>\n",
       "      <th>รหัส รพ.</th>\n",
       "      <th>ชื่อโรงพยาบาลที่รับผู้บาดเจ็บ</th>\n",
       "      <th>วันที่เกิดเหตุ</th>\n",
       "      <th>เวลาเกิดเหตุ</th>\n",
       "      <th>เพศ</th>\n",
       "      <th>อายุ</th>\n",
       "      <th>ถนนที่เกิดเหตุ</th>\n",
       "      <th>สถานะ</th>\n",
       "      <th>รถผู้บาดเจ็บ</th>\n",
       "      <th>รถคู่กรณี</th>\n",
       "      <th>มาตรการ</th>\n",
       "      <th>การดื่มสุรา</th>\n",
       "      <th>การนำส่ง</th>\n",
       "      <th>Refer-Admit</th>\n",
       "      <th>ผลการรักษา</th>\n",
       "      <th>จำนวนวันรักษา</th>\n",
       "    </tr>\n",
       "  </thead>\n",
       "  <tbody>\n",
       "    <tr>\n",
       "      <th>214945</th>\n",
       "      <td>ปีใหม่ 58</td>\n",
       "      <td>97</td>\n",
       "      <td>บึงกาฬ</td>\n",
       "      <td>11049</td>\n",
       "      <td>ศรีวิไล</td>\n",
       "      <td>31</td>\n",
       "      <td>09:01-10:00 น.</td>\n",
       "      <td>ชาย</td>\n",
       "      <td>3</td>\n",
       "      <td>ชนบท</td>\n",
       "      <td>คนเดินเท้า</td>\n",
       "      <td>ไม่มี/ล้มเอง</td>\n",
       "      <td>จักรยานยนต์</td>\n",
       "      <td>ไม่ใส่</td>\n",
       "      <td>ไม่ดื่ม</td>\n",
       "      <td>ผู้ประสบเหตุ/ญาติ</td>\n",
       "      <td>ไม่</td>\n",
       "      <td>ทุเลา/หาย</td>\n",
       "      <td>0</td>\n",
       "    </tr>\n",
       "    <tr>\n",
       "      <th>214946</th>\n",
       "      <td>ปีใหม่ 58</td>\n",
       "      <td>97</td>\n",
       "      <td>บึงกาฬ</td>\n",
       "      <td>11049</td>\n",
       "      <td>ศรีวิไล</td>\n",
       "      <td>30</td>\n",
       "      <td>16:01-17:00 น.</td>\n",
       "      <td>หญิง</td>\n",
       "      <td>4</td>\n",
       "      <td>ชนบท</td>\n",
       "      <td>คนเดินเท้า</td>\n",
       "      <td>ไม่มี/ล้มเอง</td>\n",
       "      <td>จักรยานยนต์</td>\n",
       "      <td>ไม่ใส่</td>\n",
       "      <td>ไม่ดื่ม</td>\n",
       "      <td>ผู้ประสบเหตุ/ญาติ</td>\n",
       "      <td>ไม่</td>\n",
       "      <td>ทุเลา/หาย</td>\n",
       "      <td>0</td>\n",
       "    </tr>\n",
       "    <tr>\n",
       "      <th>214947</th>\n",
       "      <td>ปีใหม่ 58</td>\n",
       "      <td>97</td>\n",
       "      <td>บึงกาฬ</td>\n",
       "      <td>11049</td>\n",
       "      <td>ศรีวิไล</td>\n",
       "      <td>30</td>\n",
       "      <td>24:01-01:00 น.</td>\n",
       "      <td>ชาย</td>\n",
       "      <td>20</td>\n",
       "      <td>ชนบท</td>\n",
       "      <td>ผู้ชับขี่</td>\n",
       "      <td>จักรยานยนต์</td>\n",
       "      <td>ปิคอัพ</td>\n",
       "      <td>ไม่ใส่</td>\n",
       "      <td>ไม่ดื่ม</td>\n",
       "      <td>ALS</td>\n",
       "      <td>ส่งต่อก่อน admit</td>\n",
       "      <td>ทุเลา/หาย</td>\n",
       "      <td>0</td>\n",
       "    </tr>\n",
       "    <tr>\n",
       "      <th>214948</th>\n",
       "      <td>ปีใหม่ 58</td>\n",
       "      <td>97</td>\n",
       "      <td>บึงกาฬ</td>\n",
       "      <td>11049</td>\n",
       "      <td>ศรีวิไล</td>\n",
       "      <td>31</td>\n",
       "      <td>14:01-15:00 น.</td>\n",
       "      <td>ชาย</td>\n",
       "      <td>16</td>\n",
       "      <td>ชนบท</td>\n",
       "      <td>ผู้ชับขี่</td>\n",
       "      <td>จักรยานยนต์</td>\n",
       "      <td>ไม่มี/ล้มเอง</td>\n",
       "      <td>ไม่ใส่</td>\n",
       "      <td>ดื่ม</td>\n",
       "      <td>FR</td>\n",
       "      <td>ส่งต่อก่อน admit</td>\n",
       "      <td>ทุเลา/หาย</td>\n",
       "      <td>0</td>\n",
       "    </tr>\n",
       "    <tr>\n",
       "      <th>214949</th>\n",
       "      <td>ปีใหม่ 58</td>\n",
       "      <td>97</td>\n",
       "      <td>บึงกาฬ</td>\n",
       "      <td>11049</td>\n",
       "      <td>ศรีวิไล</td>\n",
       "      <td>5</td>\n",
       "      <td>15:01-16:00 น.</td>\n",
       "      <td>ชาย</td>\n",
       "      <td>19</td>\n",
       "      <td>ทางหลวง</td>\n",
       "      <td>ผู้ชับขี่</td>\n",
       "      <td>จักรยานยนต์</td>\n",
       "      <td>สามล้อเครื่อง</td>\n",
       "      <td>ใส่หมวก</td>\n",
       "      <td>ไม่ดื่ม</td>\n",
       "      <td>ผู้ประสบเหตุ/ญาติ</td>\n",
       "      <td>ส่งต่อก่อน admit</td>\n",
       "      <td>ทุเลา/หาย</td>\n",
       "      <td>0</td>\n",
       "    </tr>\n",
       "  </tbody>\n",
       "</table>\n",
       "</div>"
      ],
      "text/plain": [
       "       ชื่อเทศกาล  รหัสจังหวัด จังหวัด  รหัส รพ.  \\\n",
       "214945  ปีใหม่ 58           97  บึงกาฬ     11049   \n",
       "214946  ปีใหม่ 58           97  บึงกาฬ     11049   \n",
       "214947  ปีใหม่ 58           97  บึงกาฬ     11049   \n",
       "214948  ปีใหม่ 58           97  บึงกาฬ     11049   \n",
       "214949  ปีใหม่ 58           97  บึงกาฬ     11049   \n",
       "\n",
       "       ชื่อโรงพยาบาลที่รับผู้บาดเจ็บ  วันที่เกิดเหตุ    เวลาเกิดเหตุ   เพศ  \\\n",
       "214945                       ศรีวิไล              31  09:01-10:00 น.   ชาย   \n",
       "214946                       ศรีวิไล              30  16:01-17:00 น.  หญิง   \n",
       "214947                       ศรีวิไล              30  24:01-01:00 น.   ชาย   \n",
       "214948                       ศรีวิไล              31  14:01-15:00 น.   ชาย   \n",
       "214949                       ศรีวิไล               5  15:01-16:00 น.   ชาย   \n",
       "\n",
       "        อายุ ถนนที่เกิดเหตุ       สถานะ  รถผู้บาดเจ็บ      รถคู่กรณี  มาตรการ  \\\n",
       "214945     3           ชนบท  คนเดินเท้า  ไม่มี/ล้มเอง    จักรยานยนต์   ไม่ใส่   \n",
       "214946     4           ชนบท  คนเดินเท้า  ไม่มี/ล้มเอง    จักรยานยนต์   ไม่ใส่   \n",
       "214947    20           ชนบท   ผู้ชับขี่   จักรยานยนต์         ปิคอัพ   ไม่ใส่   \n",
       "214948    16           ชนบท   ผู้ชับขี่   จักรยานยนต์   ไม่มี/ล้มเอง   ไม่ใส่   \n",
       "214949    19        ทางหลวง   ผู้ชับขี่   จักรยานยนต์  สามล้อเครื่อง  ใส่หมวก   \n",
       "\n",
       "       การดื่มสุรา           การนำส่ง       Refer-Admit ผลการรักษา  \\\n",
       "214945     ไม่ดื่ม  ผู้ประสบเหตุ/ญาติ               ไม่  ทุเลา/หาย   \n",
       "214946     ไม่ดื่ม  ผู้ประสบเหตุ/ญาติ               ไม่  ทุเลา/หาย   \n",
       "214947     ไม่ดื่ม                ALS  ส่งต่อก่อน admit  ทุเลา/หาย   \n",
       "214948        ดื่ม                 FR  ส่งต่อก่อน admit  ทุเลา/หาย   \n",
       "214949     ไม่ดื่ม  ผู้ประสบเหตุ/ญาติ  ส่งต่อก่อน admit  ทุเลา/หาย   \n",
       "\n",
       "        จำนวนวันรักษา  \n",
       "214945              0  \n",
       "214946              0  \n",
       "214947              0  \n",
       "214948              0  \n",
       "214949              0  "
      ]
     },
     "metadata": {},
     "output_type": "display_data"
    }
   ],
   "source": [
    "display_all(df_raw.tail())"
   ]
  },
  {
   "cell_type": "code",
   "execution_count": 7,
   "metadata": {},
   "outputs": [],
   "source": [
    "#Government hospital data\n",
    "hospgov = pd.read_csv(f'{PATH}hospgov.csv')\n",
    "\n",
    "#Private hospital data\n",
    "hospbus = pd.read_csv(f'{PATH}hosp.csv')"
   ]
  },
  {
   "cell_type": "code",
   "execution_count": 8,
   "metadata": {
    "scrolled": true
   },
   "outputs": [
    {
     "data": {
      "text/html": [
       "<div>\n",
       "<style scoped>\n",
       "    .dataframe tbody tr th:only-of-type {\n",
       "        vertical-align: middle;\n",
       "    }\n",
       "\n",
       "    .dataframe tbody tr th {\n",
       "        vertical-align: top;\n",
       "    }\n",
       "\n",
       "    .dataframe thead th {\n",
       "        text-align: right;\n",
       "    }\n",
       "</style>\n",
       "<table border=\"1\" class=\"dataframe\">\n",
       "  <thead>\n",
       "    <tr style=\"text-align: right;\">\n",
       "      <th></th>\n",
       "      <th>ชื่อหน่วยงาน</th>\n",
       "      <th>ประเภทหน่วยงาน</th>\n",
       "      <th>จำนวนเตียงจริง_2559</th>\n",
       "    </tr>\n",
       "  </thead>\n",
       "  <tbody>\n",
       "    <tr>\n",
       "      <th>891</th>\n",
       "      <td>ควนกาหลง</td>\n",
       "      <td>ชุมชน</td>\n",
       "      <td>33</td>\n",
       "    </tr>\n",
       "    <tr>\n",
       "      <th>892</th>\n",
       "      <td>ควนโดน</td>\n",
       "      <td>ชุมชน</td>\n",
       "      <td>30</td>\n",
       "    </tr>\n",
       "    <tr>\n",
       "      <th>893</th>\n",
       "      <td>ท่าแพ</td>\n",
       "      <td>ชุมชน</td>\n",
       "      <td>33</td>\n",
       "    </tr>\n",
       "    <tr>\n",
       "      <th>894</th>\n",
       "      <td>ทุ่งหว้า</td>\n",
       "      <td>ชุมชน</td>\n",
       "      <td>30</td>\n",
       "    </tr>\n",
       "    <tr>\n",
       "      <th>895</th>\n",
       "      <td>มะนัง</td>\n",
       "      <td>ชุมชน</td>\n",
       "      <td>30</td>\n",
       "    </tr>\n",
       "  </tbody>\n",
       "</table>\n",
       "</div>"
      ],
      "text/plain": [
       "    ชื่อหน่วยงาน ประเภทหน่วยงาน  จำนวนเตียงจริง_2559\n",
       "891     ควนกาหลง          ชุมชน                   33\n",
       "892       ควนโดน          ชุมชน                   30\n",
       "893        ท่าแพ          ชุมชน                   33\n",
       "894     ทุ่งหว้า          ชุมชน                   30\n",
       "895        มะนัง          ชุมชน                   30"
      ]
     },
     "execution_count": 8,
     "metadata": {},
     "output_type": "execute_result"
    }
   ],
   "source": [
    "hospgov.tail()"
   ]
  },
  {
   "cell_type": "markdown",
   "metadata": {},
   "source": [
    "Combine Hospital data from both sources"
   ]
  },
  {
   "cell_type": "code",
   "execution_count": 9,
   "metadata": {},
   "outputs": [],
   "source": [
    "hospbus.loc[:,'ประเภทหน่วยงาน'] = 'เอกชน'"
   ]
  },
  {
   "cell_type": "code",
   "execution_count": 10,
   "metadata": {},
   "outputs": [],
   "source": [
    "hospbus.rename(index=str, columns={\"Hosp\": \"ชื่อหน่วยงาน\", \"Bed\": \"จำนวนเตียงจริง_2559\"}, inplace = True)"
   ]
  },
  {
   "cell_type": "code",
   "execution_count": 11,
   "metadata": {},
   "outputs": [],
   "source": [
    "hospbus = hospbus[['ชื่อหน่วยงาน', 'ประเภทหน่วยงาน', 'จำนวนเตียงจริง_2559']]"
   ]
  },
  {
   "cell_type": "code",
   "execution_count": 12,
   "metadata": {},
   "outputs": [
    {
     "data": {
      "text/html": [
       "<div>\n",
       "<style scoped>\n",
       "    .dataframe tbody tr th:only-of-type {\n",
       "        vertical-align: middle;\n",
       "    }\n",
       "\n",
       "    .dataframe tbody tr th {\n",
       "        vertical-align: top;\n",
       "    }\n",
       "\n",
       "    .dataframe thead th {\n",
       "        text-align: right;\n",
       "    }\n",
       "</style>\n",
       "<table border=\"1\" class=\"dataframe\">\n",
       "  <thead>\n",
       "    <tr style=\"text-align: right;\">\n",
       "      <th></th>\n",
       "      <th>ชื่อหน่วยงาน</th>\n",
       "      <th>ประเภทหน่วยงาน</th>\n",
       "      <th>จำนวนเตียงจริง_2559</th>\n",
       "    </tr>\n",
       "  </thead>\n",
       "  <tbody>\n",
       "    <tr>\n",
       "      <th>320</th>\n",
       "      <td>เอกอุดร</td>\n",
       "      <td>เอกชน</td>\n",
       "      <td>100</td>\n",
       "    </tr>\n",
       "    <tr>\n",
       "      <th>321</th>\n",
       "      <td>นอร์ทอีสเทอร์นวัฒนา</td>\n",
       "      <td>เอกชน</td>\n",
       "      <td>100</td>\n",
       "    </tr>\n",
       "    <tr>\n",
       "      <th>322</th>\n",
       "      <td>ราชเวชอุบลราชธานี</td>\n",
       "      <td>เอกชน</td>\n",
       "      <td>100</td>\n",
       "    </tr>\n",
       "    <tr>\n",
       "      <th>323</th>\n",
       "      <td>อุบลรักษ์ ธนบุรี</td>\n",
       "      <td>เอกชน</td>\n",
       "      <td>100</td>\n",
       "    </tr>\n",
       "    <tr>\n",
       "      <th>324</th>\n",
       "      <td>เอกชนร่มเกล้า</td>\n",
       "      <td>เอกชน</td>\n",
       "      <td>50</td>\n",
       "    </tr>\n",
       "  </tbody>\n",
       "</table>\n",
       "</div>"
      ],
      "text/plain": [
       "            ชื่อหน่วยงาน ประเภทหน่วยงาน  จำนวนเตียงจริง_2559\n",
       "320              เอกอุดร          เอกชน                  100\n",
       "321  นอร์ทอีสเทอร์นวัฒนา          เอกชน                  100\n",
       "322    ราชเวชอุบลราชธานี          เอกชน                  100\n",
       "323     อุบลรักษ์ ธนบุรี          เอกชน                  100\n",
       "324        เอกชนร่มเกล้า          เอกชน                   50"
      ]
     },
     "execution_count": 12,
     "metadata": {},
     "output_type": "execute_result"
    }
   ],
   "source": [
    "hospbus.tail()"
   ]
  },
  {
   "cell_type": "code",
   "execution_count": 13,
   "metadata": {},
   "outputs": [],
   "source": [
    "hosp = hospgov.append(hospbus, ignore_index=True)"
   ]
  },
  {
   "cell_type": "code",
   "execution_count": 14,
   "metadata": {},
   "outputs": [
    {
     "data": {
      "text/html": [
       "<div>\n",
       "<style scoped>\n",
       "    .dataframe tbody tr th:only-of-type {\n",
       "        vertical-align: middle;\n",
       "    }\n",
       "\n",
       "    .dataframe tbody tr th {\n",
       "        vertical-align: top;\n",
       "    }\n",
       "\n",
       "    .dataframe thead th {\n",
       "        text-align: right;\n",
       "    }\n",
       "</style>\n",
       "<table border=\"1\" class=\"dataframe\">\n",
       "  <thead>\n",
       "    <tr style=\"text-align: right;\">\n",
       "      <th></th>\n",
       "      <th>ชื่อหน่วยงาน</th>\n",
       "      <th>ประเภทหน่วยงาน</th>\n",
       "      <th>จำนวนเตียงจริง_2559</th>\n",
       "    </tr>\n",
       "  </thead>\n",
       "  <tbody>\n",
       "    <tr>\n",
       "      <th>1216</th>\n",
       "      <td>เอกอุดร</td>\n",
       "      <td>เอกชน</td>\n",
       "      <td>100</td>\n",
       "    </tr>\n",
       "    <tr>\n",
       "      <th>1217</th>\n",
       "      <td>นอร์ทอีสเทอร์นวัฒนา</td>\n",
       "      <td>เอกชน</td>\n",
       "      <td>100</td>\n",
       "    </tr>\n",
       "    <tr>\n",
       "      <th>1218</th>\n",
       "      <td>ราชเวชอุบลราชธานี</td>\n",
       "      <td>เอกชน</td>\n",
       "      <td>100</td>\n",
       "    </tr>\n",
       "    <tr>\n",
       "      <th>1219</th>\n",
       "      <td>อุบลรักษ์ ธนบุรี</td>\n",
       "      <td>เอกชน</td>\n",
       "      <td>100</td>\n",
       "    </tr>\n",
       "    <tr>\n",
       "      <th>1220</th>\n",
       "      <td>เอกชนร่มเกล้า</td>\n",
       "      <td>เอกชน</td>\n",
       "      <td>50</td>\n",
       "    </tr>\n",
       "  </tbody>\n",
       "</table>\n",
       "</div>"
      ],
      "text/plain": [
       "             ชื่อหน่วยงาน ประเภทหน่วยงาน  จำนวนเตียงจริง_2559\n",
       "1216              เอกอุดร          เอกชน                  100\n",
       "1217  นอร์ทอีสเทอร์นวัฒนา          เอกชน                  100\n",
       "1218    ราชเวชอุบลราชธานี          เอกชน                  100\n",
       "1219     อุบลรักษ์ ธนบุรี          เอกชน                  100\n",
       "1220        เอกชนร่มเกล้า          เอกชน                   50"
      ]
     },
     "execution_count": 14,
     "metadata": {},
     "output_type": "execute_result"
    }
   ],
   "source": [
    "hosp.tail()"
   ]
  },
  {
   "cell_type": "code",
   "execution_count": 15,
   "metadata": {},
   "outputs": [],
   "source": [
    "hosp.rename(index=str, columns={\"ชื่อหน่วยงาน\": \"ชื่อโรงพยาบาลที่รับผู้บาดเจ็บ\"}, inplace = True)"
   ]
  },
  {
   "cell_type": "markdown",
   "metadata": {},
   "source": [
    "Join hospitals detail to main data by column 'ชื่อโรงพยาบาลที่รับผู้บาดเจ็บ'"
   ]
  },
  {
   "cell_type": "code",
   "execution_count": 16,
   "metadata": {},
   "outputs": [],
   "source": [
    "df_raw = df_raw.join(hosp.set_index('ชื่อโรงพยาบาลที่รับผู้บาดเจ็บ'), on='ชื่อโรงพยาบาลที่รับผู้บาดเจ็บ')"
   ]
  },
  {
   "cell_type": "code",
   "execution_count": 17,
   "metadata": {
    "scrolled": false
   },
   "outputs": [
    {
     "data": {
      "text/html": [
       "<div>\n",
       "<style scoped>\n",
       "    .dataframe tbody tr th:only-of-type {\n",
       "        vertical-align: middle;\n",
       "    }\n",
       "\n",
       "    .dataframe tbody tr th {\n",
       "        vertical-align: top;\n",
       "    }\n",
       "\n",
       "    .dataframe thead th {\n",
       "        text-align: right;\n",
       "    }\n",
       "</style>\n",
       "<table border=\"1\" class=\"dataframe\">\n",
       "  <thead>\n",
       "    <tr style=\"text-align: right;\">\n",
       "      <th></th>\n",
       "      <th>ชื่อเทศกาล</th>\n",
       "      <th>รหัสจังหวัด</th>\n",
       "      <th>จังหวัด</th>\n",
       "      <th>รหัส รพ.</th>\n",
       "      <th>ชื่อโรงพยาบาลที่รับผู้บาดเจ็บ</th>\n",
       "      <th>วันที่เกิดเหตุ</th>\n",
       "      <th>เวลาเกิดเหตุ</th>\n",
       "      <th>เพศ</th>\n",
       "      <th>อายุ</th>\n",
       "      <th>ถนนที่เกิดเหตุ</th>\n",
       "      <th>สถานะ</th>\n",
       "      <th>รถผู้บาดเจ็บ</th>\n",
       "      <th>รถคู่กรณี</th>\n",
       "      <th>มาตรการ</th>\n",
       "      <th>การดื่มสุรา</th>\n",
       "      <th>การนำส่ง</th>\n",
       "      <th>Refer-Admit</th>\n",
       "      <th>ผลการรักษา</th>\n",
       "      <th>จำนวนวันรักษา</th>\n",
       "      <th>ประเภทหน่วยงาน</th>\n",
       "      <th>จำนวนเตียงจริง_2559</th>\n",
       "    </tr>\n",
       "  </thead>\n",
       "  <tbody>\n",
       "    <tr>\n",
       "      <th>214945</th>\n",
       "      <td>ปีใหม่ 58</td>\n",
       "      <td>97</td>\n",
       "      <td>บึงกาฬ</td>\n",
       "      <td>11049</td>\n",
       "      <td>ศรีวิไล</td>\n",
       "      <td>31</td>\n",
       "      <td>09:01-10:00 น.</td>\n",
       "      <td>ชาย</td>\n",
       "      <td>3</td>\n",
       "      <td>ชนบท</td>\n",
       "      <td>คนเดินเท้า</td>\n",
       "      <td>ไม่มี/ล้มเอง</td>\n",
       "      <td>จักรยานยนต์</td>\n",
       "      <td>ไม่ใส่</td>\n",
       "      <td>ไม่ดื่ม</td>\n",
       "      <td>ผู้ประสบเหตุ/ญาติ</td>\n",
       "      <td>ไม่</td>\n",
       "      <td>ทุเลา/หาย</td>\n",
       "      <td>0</td>\n",
       "      <td>ชุมชน</td>\n",
       "      <td>38.0</td>\n",
       "    </tr>\n",
       "    <tr>\n",
       "      <th>214946</th>\n",
       "      <td>ปีใหม่ 58</td>\n",
       "      <td>97</td>\n",
       "      <td>บึงกาฬ</td>\n",
       "      <td>11049</td>\n",
       "      <td>ศรีวิไล</td>\n",
       "      <td>30</td>\n",
       "      <td>16:01-17:00 น.</td>\n",
       "      <td>หญิง</td>\n",
       "      <td>4</td>\n",
       "      <td>ชนบท</td>\n",
       "      <td>คนเดินเท้า</td>\n",
       "      <td>ไม่มี/ล้มเอง</td>\n",
       "      <td>จักรยานยนต์</td>\n",
       "      <td>ไม่ใส่</td>\n",
       "      <td>ไม่ดื่ม</td>\n",
       "      <td>ผู้ประสบเหตุ/ญาติ</td>\n",
       "      <td>ไม่</td>\n",
       "      <td>ทุเลา/หาย</td>\n",
       "      <td>0</td>\n",
       "      <td>ชุมชน</td>\n",
       "      <td>38.0</td>\n",
       "    </tr>\n",
       "    <tr>\n",
       "      <th>214947</th>\n",
       "      <td>ปีใหม่ 58</td>\n",
       "      <td>97</td>\n",
       "      <td>บึงกาฬ</td>\n",
       "      <td>11049</td>\n",
       "      <td>ศรีวิไล</td>\n",
       "      <td>30</td>\n",
       "      <td>24:01-01:00 น.</td>\n",
       "      <td>ชาย</td>\n",
       "      <td>20</td>\n",
       "      <td>ชนบท</td>\n",
       "      <td>ผู้ชับขี่</td>\n",
       "      <td>จักรยานยนต์</td>\n",
       "      <td>ปิคอัพ</td>\n",
       "      <td>ไม่ใส่</td>\n",
       "      <td>ไม่ดื่ม</td>\n",
       "      <td>ALS</td>\n",
       "      <td>ส่งต่อก่อน admit</td>\n",
       "      <td>ทุเลา/หาย</td>\n",
       "      <td>0</td>\n",
       "      <td>ชุมชน</td>\n",
       "      <td>38.0</td>\n",
       "    </tr>\n",
       "    <tr>\n",
       "      <th>214948</th>\n",
       "      <td>ปีใหม่ 58</td>\n",
       "      <td>97</td>\n",
       "      <td>บึงกาฬ</td>\n",
       "      <td>11049</td>\n",
       "      <td>ศรีวิไล</td>\n",
       "      <td>31</td>\n",
       "      <td>14:01-15:00 น.</td>\n",
       "      <td>ชาย</td>\n",
       "      <td>16</td>\n",
       "      <td>ชนบท</td>\n",
       "      <td>ผู้ชับขี่</td>\n",
       "      <td>จักรยานยนต์</td>\n",
       "      <td>ไม่มี/ล้มเอง</td>\n",
       "      <td>ไม่ใส่</td>\n",
       "      <td>ดื่ม</td>\n",
       "      <td>FR</td>\n",
       "      <td>ส่งต่อก่อน admit</td>\n",
       "      <td>ทุเลา/หาย</td>\n",
       "      <td>0</td>\n",
       "      <td>ชุมชน</td>\n",
       "      <td>38.0</td>\n",
       "    </tr>\n",
       "    <tr>\n",
       "      <th>214949</th>\n",
       "      <td>ปีใหม่ 58</td>\n",
       "      <td>97</td>\n",
       "      <td>บึงกาฬ</td>\n",
       "      <td>11049</td>\n",
       "      <td>ศรีวิไล</td>\n",
       "      <td>5</td>\n",
       "      <td>15:01-16:00 น.</td>\n",
       "      <td>ชาย</td>\n",
       "      <td>19</td>\n",
       "      <td>ทางหลวง</td>\n",
       "      <td>ผู้ชับขี่</td>\n",
       "      <td>จักรยานยนต์</td>\n",
       "      <td>สามล้อเครื่อง</td>\n",
       "      <td>ใส่หมวก</td>\n",
       "      <td>ไม่ดื่ม</td>\n",
       "      <td>ผู้ประสบเหตุ/ญาติ</td>\n",
       "      <td>ส่งต่อก่อน admit</td>\n",
       "      <td>ทุเลา/หาย</td>\n",
       "      <td>0</td>\n",
       "      <td>ชุมชน</td>\n",
       "      <td>38.0</td>\n",
       "    </tr>\n",
       "  </tbody>\n",
       "</table>\n",
       "</div>"
      ],
      "text/plain": [
       "       ชื่อเทศกาล  รหัสจังหวัด จังหวัด  รหัส รพ.  \\\n",
       "214945  ปีใหม่ 58           97  บึงกาฬ     11049   \n",
       "214946  ปีใหม่ 58           97  บึงกาฬ     11049   \n",
       "214947  ปีใหม่ 58           97  บึงกาฬ     11049   \n",
       "214948  ปีใหม่ 58           97  บึงกาฬ     11049   \n",
       "214949  ปีใหม่ 58           97  บึงกาฬ     11049   \n",
       "\n",
       "       ชื่อโรงพยาบาลที่รับผู้บาดเจ็บ  วันที่เกิดเหตุ    เวลาเกิดเหตุ   เพศ  \\\n",
       "214945                       ศรีวิไล              31  09:01-10:00 น.   ชาย   \n",
       "214946                       ศรีวิไล              30  16:01-17:00 น.  หญิง   \n",
       "214947                       ศรีวิไล              30  24:01-01:00 น.   ชาย   \n",
       "214948                       ศรีวิไล              31  14:01-15:00 น.   ชาย   \n",
       "214949                       ศรีวิไล               5  15:01-16:00 น.   ชาย   \n",
       "\n",
       "        อายุ ถนนที่เกิดเหตุ       สถานะ  รถผู้บาดเจ็บ      รถคู่กรณี  มาตรการ  \\\n",
       "214945     3           ชนบท  คนเดินเท้า  ไม่มี/ล้มเอง    จักรยานยนต์   ไม่ใส่   \n",
       "214946     4           ชนบท  คนเดินเท้า  ไม่มี/ล้มเอง    จักรยานยนต์   ไม่ใส่   \n",
       "214947    20           ชนบท   ผู้ชับขี่   จักรยานยนต์         ปิคอัพ   ไม่ใส่   \n",
       "214948    16           ชนบท   ผู้ชับขี่   จักรยานยนต์   ไม่มี/ล้มเอง   ไม่ใส่   \n",
       "214949    19        ทางหลวง   ผู้ชับขี่   จักรยานยนต์  สามล้อเครื่อง  ใส่หมวก   \n",
       "\n",
       "       การดื่มสุรา           การนำส่ง       Refer-Admit ผลการรักษา  \\\n",
       "214945     ไม่ดื่ม  ผู้ประสบเหตุ/ญาติ               ไม่  ทุเลา/หาย   \n",
       "214946     ไม่ดื่ม  ผู้ประสบเหตุ/ญาติ               ไม่  ทุเลา/หาย   \n",
       "214947     ไม่ดื่ม                ALS  ส่งต่อก่อน admit  ทุเลา/หาย   \n",
       "214948        ดื่ม                 FR  ส่งต่อก่อน admit  ทุเลา/หาย   \n",
       "214949     ไม่ดื่ม  ผู้ประสบเหตุ/ญาติ  ส่งต่อก่อน admit  ทุเลา/หาย   \n",
       "\n",
       "        จำนวนวันรักษา ประเภทหน่วยงาน  จำนวนเตียงจริง_2559  \n",
       "214945              0          ชุมชน                 38.0  \n",
       "214946              0          ชุมชน                 38.0  \n",
       "214947              0          ชุมชน                 38.0  \n",
       "214948              0          ชุมชน                 38.0  \n",
       "214949              0          ชุมชน                 38.0  "
      ]
     },
     "metadata": {},
     "output_type": "display_data"
    }
   ],
   "source": [
    "display_all(df_raw.tail())"
   ]
  },
  {
   "cell_type": "code",
   "execution_count": 19,
   "metadata": {},
   "outputs": [
    {
     "data": {
      "text/html": [
       "<div>\n",
       "<style scoped>\n",
       "    .dataframe tbody tr th:only-of-type {\n",
       "        vertical-align: middle;\n",
       "    }\n",
       "\n",
       "    .dataframe tbody tr th {\n",
       "        vertical-align: top;\n",
       "    }\n",
       "\n",
       "    .dataframe thead th {\n",
       "        text-align: right;\n",
       "    }\n",
       "</style>\n",
       "<table border=\"1\" class=\"dataframe\">\n",
       "  <thead>\n",
       "    <tr style=\"text-align: right;\">\n",
       "      <th></th>\n",
       "      <th>ชื่อเทศกาล</th>\n",
       "      <th>รหัสจังหวัด</th>\n",
       "      <th>จังหวัด</th>\n",
       "      <th>รหัส รพ.</th>\n",
       "      <th>ชื่อโรงพยาบาลที่รับผู้บาดเจ็บ</th>\n",
       "      <th>วันที่เกิดเหตุ</th>\n",
       "      <th>เวลาเกิดเหตุ</th>\n",
       "      <th>เพศ</th>\n",
       "      <th>อายุ</th>\n",
       "      <th>ถนนที่เกิดเหตุ</th>\n",
       "      <th>...</th>\n",
       "      <th>รถผู้บาดเจ็บ</th>\n",
       "      <th>รถคู่กรณี</th>\n",
       "      <th>มาตรการ</th>\n",
       "      <th>การดื่มสุรา</th>\n",
       "      <th>การนำส่ง</th>\n",
       "      <th>Refer-Admit</th>\n",
       "      <th>ผลการรักษา</th>\n",
       "      <th>จำนวนวันรักษา</th>\n",
       "      <th>ประเภทหน่วยงาน</th>\n",
       "      <th>จำนวนเตียงจริง_2559</th>\n",
       "    </tr>\n",
       "  </thead>\n",
       "  <tbody>\n",
       "    <tr>\n",
       "      <th>207881</th>\n",
       "      <td>ปีใหม่ 58</td>\n",
       "      <td>66</td>\n",
       "      <td>พิจิตร</td>\n",
       "      <td>27978</td>\n",
       "      <td>สากเหล็ก</td>\n",
       "      <td>2</td>\n",
       "      <td>10:01-11:00 น.</td>\n",
       "      <td>หญิง</td>\n",
       "      <td>13</td>\n",
       "      <td>ชนบท</td>\n",
       "      <td>...</td>\n",
       "      <td>จักรยานยนต์</td>\n",
       "      <td>ปิคอัพ</td>\n",
       "      <td>ไม่ใส่</td>\n",
       "      <td>ไม่ดื่ม</td>\n",
       "      <td>FR</td>\n",
       "      <td>ไม่</td>\n",
       "      <td>ทุเลา/หาย</td>\n",
       "      <td>0</td>\n",
       "      <td>ชุมชน</td>\n",
       "      <td>0.0</td>\n",
       "    </tr>\n",
       "    <tr>\n",
       "      <th>207882</th>\n",
       "      <td>ปีใหม่ 58</td>\n",
       "      <td>66</td>\n",
       "      <td>พิจิตร</td>\n",
       "      <td>27978</td>\n",
       "      <td>สากเหล็ก</td>\n",
       "      <td>31</td>\n",
       "      <td>10:01-11:00 น.</td>\n",
       "      <td>ชาย</td>\n",
       "      <td>45</td>\n",
       "      <td>ทางหลวง</td>\n",
       "      <td>...</td>\n",
       "      <td>ปิคอัพ</td>\n",
       "      <td>รถเก๋ง/แท็กซี่</td>\n",
       "      <td>ไม่ทราบ</td>\n",
       "      <td>ไม่ทราบ</td>\n",
       "      <td>FR</td>\n",
       "      <td>ไม่</td>\n",
       "      <td>ทุเลา/หาย</td>\n",
       "      <td>0</td>\n",
       "      <td>ชุมชน</td>\n",
       "      <td>0.0</td>\n",
       "    </tr>\n",
       "    <tr>\n",
       "      <th>207883</th>\n",
       "      <td>ปีใหม่ 58</td>\n",
       "      <td>66</td>\n",
       "      <td>พิจิตร</td>\n",
       "      <td>27978</td>\n",
       "      <td>สากเหล็ก</td>\n",
       "      <td>2</td>\n",
       "      <td>10:01-11:00 น.</td>\n",
       "      <td>หญิง</td>\n",
       "      <td>14</td>\n",
       "      <td>ชนบท</td>\n",
       "      <td>...</td>\n",
       "      <td>จักรยานยนต์</td>\n",
       "      <td>ปิคอัพ</td>\n",
       "      <td>ไม่ใส่</td>\n",
       "      <td>ไม่ดื่ม</td>\n",
       "      <td>FR</td>\n",
       "      <td>ส่งต่อก่อน admit</td>\n",
       "      <td>ทุเลา/หาย</td>\n",
       "      <td>0</td>\n",
       "      <td>ชุมชน</td>\n",
       "      <td>0.0</td>\n",
       "    </tr>\n",
       "    <tr>\n",
       "      <th>207884</th>\n",
       "      <td>ปีใหม่ 58</td>\n",
       "      <td>66</td>\n",
       "      <td>พิจิตร</td>\n",
       "      <td>27978</td>\n",
       "      <td>สากเหล็ก</td>\n",
       "      <td>30</td>\n",
       "      <td>11:01-12:00 น.</td>\n",
       "      <td>ชาย</td>\n",
       "      <td>4</td>\n",
       "      <td>ทางหลวง</td>\n",
       "      <td>...</td>\n",
       "      <td>จักรยานยนต์</td>\n",
       "      <td>ไม่มี/ล้มเอง</td>\n",
       "      <td>ใส่หมวก</td>\n",
       "      <td>ไม่ดื่ม</td>\n",
       "      <td>FR</td>\n",
       "      <td>ส่งต่อก่อน admit</td>\n",
       "      <td>ทุเลา/หาย</td>\n",
       "      <td>0</td>\n",
       "      <td>ชุมชน</td>\n",
       "      <td>0.0</td>\n",
       "    </tr>\n",
       "    <tr>\n",
       "      <th>207885</th>\n",
       "      <td>ปีใหม่ 58</td>\n",
       "      <td>66</td>\n",
       "      <td>พิจิตร</td>\n",
       "      <td>27978</td>\n",
       "      <td>สากเหล็ก</td>\n",
       "      <td>30</td>\n",
       "      <td>11:01-12:00 น.</td>\n",
       "      <td>ชาย</td>\n",
       "      <td>26</td>\n",
       "      <td>ทางหลวง</td>\n",
       "      <td>...</td>\n",
       "      <td>จักรยานยนต์</td>\n",
       "      <td>ไม่มี/ล้มเอง</td>\n",
       "      <td>ใส่หมวก</td>\n",
       "      <td>ดื่ม</td>\n",
       "      <td>FR</td>\n",
       "      <td>ส่งต่อก่อน admit</td>\n",
       "      <td>ทุเลา/หาย</td>\n",
       "      <td>0</td>\n",
       "      <td>ชุมชน</td>\n",
       "      <td>0.0</td>\n",
       "    </tr>\n",
       "  </tbody>\n",
       "</table>\n",
       "<p>5 rows × 21 columns</p>\n",
       "</div>"
      ],
      "text/plain": [
       "       ชื่อเทศกาล  รหัสจังหวัด จังหวัด  รหัส รพ.  \\\n",
       "207881  ปีใหม่ 58           66  พิจิตร     27978   \n",
       "207882  ปีใหม่ 58           66  พิจิตร     27978   \n",
       "207883  ปีใหม่ 58           66  พิจิตร     27978   \n",
       "207884  ปีใหม่ 58           66  พิจิตร     27978   \n",
       "207885  ปีใหม่ 58           66  พิจิตร     27978   \n",
       "\n",
       "       ชื่อโรงพยาบาลที่รับผู้บาดเจ็บ  วันที่เกิดเหตุ    เวลาเกิดเหตุ   เพศ  \\\n",
       "207881                      สากเหล็ก               2  10:01-11:00 น.  หญิง   \n",
       "207882                      สากเหล็ก              31  10:01-11:00 น.   ชาย   \n",
       "207883                      สากเหล็ก               2  10:01-11:00 น.  หญิง   \n",
       "207884                      สากเหล็ก              30  11:01-12:00 น.   ชาย   \n",
       "207885                      สากเหล็ก              30  11:01-12:00 น.   ชาย   \n",
       "\n",
       "        อายุ ถนนที่เกิดเหตุ         ...         รถผู้บาดเจ็บ       รถคู่กรณี  \\\n",
       "207881    13           ชนบท         ...          จักรยานยนต์          ปิคอัพ   \n",
       "207882    45        ทางหลวง         ...               ปิคอัพ  รถเก๋ง/แท็กซี่   \n",
       "207883    14           ชนบท         ...          จักรยานยนต์          ปิคอัพ   \n",
       "207884     4        ทางหลวง         ...          จักรยานยนต์    ไม่มี/ล้มเอง   \n",
       "207885    26        ทางหลวง         ...          จักรยานยนต์    ไม่มี/ล้มเอง   \n",
       "\n",
       "        มาตรการ การดื่มสุรา การนำส่ง       Refer-Admit ผลการรักษา  \\\n",
       "207881   ไม่ใส่     ไม่ดื่ม       FR               ไม่  ทุเลา/หาย   \n",
       "207882  ไม่ทราบ     ไม่ทราบ       FR               ไม่  ทุเลา/หาย   \n",
       "207883   ไม่ใส่     ไม่ดื่ม       FR  ส่งต่อก่อน admit  ทุเลา/หาย   \n",
       "207884  ใส่หมวก     ไม่ดื่ม       FR  ส่งต่อก่อน admit  ทุเลา/หาย   \n",
       "207885  ใส่หมวก        ดื่ม       FR  ส่งต่อก่อน admit  ทุเลา/หาย   \n",
       "\n",
       "       จำนวนวันรักษา  ประเภทหน่วยงาน จำนวนเตียงจริง_2559  \n",
       "207881             0           ชุมชน                 0.0  \n",
       "207882             0           ชุมชน                 0.0  \n",
       "207883             0           ชุมชน                 0.0  \n",
       "207884             0           ชุมชน                 0.0  \n",
       "207885             0           ชุมชน                 0.0  \n",
       "\n",
       "[5 rows x 21 columns]"
      ]
     },
     "execution_count": 19,
     "metadata": {},
     "output_type": "execute_result"
    }
   ],
   "source": [
    "#Find missing value of hosp bed and replace available data from Wikipedia\n",
    "df_raw.loc[(df_raw[\"จำนวนเตียงจริง_2559\"] == 0)].tail()"
   ]
  },
  {
   "cell_type": "code",
   "execution_count": 20,
   "metadata": {},
   "outputs": [],
   "source": [
    "df_raw.loc[(df_raw[\"ชื่อโรงพยาบาลที่รับผู้บาดเจ็บ\"] == \"เฉลิมพระเกียรติ\") & (df_raw[\"จำนวนเตียงจริง_2559\"] == 0), \"จำนวนเตียงจริง_2559\"] = 30"
   ]
  },
  {
   "cell_type": "code",
   "execution_count": null,
   "metadata": {},
   "outputs": [],
   "source": []
  },
  {
   "cell_type": "code",
   "execution_count": 39,
   "metadata": {},
   "outputs": [],
   "source": [
    "# Convert to PD datetime format and drop redundant columns"
   ]
  },
  {
   "cell_type": "code",
   "execution_count": 21,
   "metadata": {},
   "outputs": [],
   "source": [
    "convert_to_year = (df_raw.ชื่อเทศกาล.str.split(\" \").str[-1].astype(int) + 1957).astype(str) + \" \""
   ]
  },
  {
   "cell_type": "code",
   "execution_count": 22,
   "metadata": {},
   "outputs": [],
   "source": [
    "def conv_month(x, dec, jan):\n",
    "    if x > 20:\n",
    "        x = str(x)+ dec \n",
    "    else:\n",
    "        x = str(x)+ jan \n",
    "    return x\n",
    "ac_day = df_raw.วันที่เกิดเหตุ.copy()\n",
    "ac_day[ac_day==0] = 30\n",
    "ac_day = ac_day.apply(conv_month, args=('/12/', '/1/'))"
   ]
  },
  {
   "cell_type": "code",
   "execution_count": 23,
   "metadata": {},
   "outputs": [],
   "source": [
    "ac_time = df_raw.เวลาเกิดเหตุ.str.split(\"-\").str[0]\n",
    "#Convert 24:01 to 0:01 , convert unknown to 0:00\n",
    "ac_time[ac_time==\"24:01\"] = \"0:01\"\n",
    "ac_time[ac_time==\"ไม่ทราบ\"] = \"0:00\""
   ]
  },
  {
   "cell_type": "code",
   "execution_count": 24,
   "metadata": {},
   "outputs": [],
   "source": [
    "ac_day = ac_day+convert_to_year+ac_time"
   ]
  },
  {
   "cell_type": "code",
   "execution_count": 25,
   "metadata": {
    "scrolled": false
   },
   "outputs": [
    {
     "data": {
      "text/html": [
       "<div>\n",
       "<style scoped>\n",
       "    .dataframe tbody tr th:only-of-type {\n",
       "        vertical-align: middle;\n",
       "    }\n",
       "\n",
       "    .dataframe tbody tr th {\n",
       "        vertical-align: top;\n",
       "    }\n",
       "\n",
       "    .dataframe thead th {\n",
       "        text-align: right;\n",
       "    }\n",
       "</style>\n",
       "<table border=\"1\" class=\"dataframe\">\n",
       "  <thead>\n",
       "    <tr style=\"text-align: right;\">\n",
       "      <th></th>\n",
       "      <th>จังหวัด</th>\n",
       "      <th>ชื่อโรงพยาบาลที่รับผู้บาดเจ็บ</th>\n",
       "      <th>วันที่เกิดเหตุ</th>\n",
       "      <th>เพศ</th>\n",
       "      <th>อายุ</th>\n",
       "      <th>ถนนที่เกิดเหตุ</th>\n",
       "      <th>สถานะ</th>\n",
       "      <th>รถผู้บาดเจ็บ</th>\n",
       "      <th>รถคู่กรณี</th>\n",
       "      <th>มาตรการ</th>\n",
       "      <th>การดื่มสุรา</th>\n",
       "      <th>การนำส่ง</th>\n",
       "      <th>Refer-Admit</th>\n",
       "      <th>ผลการรักษา</th>\n",
       "      <th>จำนวนวันรักษา</th>\n",
       "      <th>ประเภทหน่วยงาน</th>\n",
       "      <th>จำนวนเตียงจริง_2559</th>\n",
       "      <th>dates</th>\n",
       "    </tr>\n",
       "  </thead>\n",
       "  <tbody>\n",
       "    <tr>\n",
       "      <th>0</th>\n",
       "      <td>กรุงเทพมหานคร</td>\n",
       "      <td>กรุงเทพ</td>\n",
       "      <td>3</td>\n",
       "      <td>หญิง</td>\n",
       "      <td>54</td>\n",
       "      <td>ในเมือง</td>\n",
       "      <td>ผู้ชับขี่</td>\n",
       "      <td>รถเก๋ง/แท็กซี่</td>\n",
       "      <td>ไม่มี/ล้มเอง</td>\n",
       "      <td>เข็มขัด</td>\n",
       "      <td>ไม่ดื่ม</td>\n",
       "      <td>ผู้ประสบเหตุ/ญาติ</td>\n",
       "      <td>ไม่</td>\n",
       "      <td>ทุเลา/หาย</td>\n",
       "      <td>0</td>\n",
       "      <td>เอกชน</td>\n",
       "      <td>403.0</td>\n",
       "      <td>2008-01-03 12:01:00</td>\n",
       "    </tr>\n",
       "    <tr>\n",
       "      <th>1</th>\n",
       "      <td>กรุงเทพมหานคร</td>\n",
       "      <td>กรุงเทพคริสเตียน</td>\n",
       "      <td>2</td>\n",
       "      <td>หญิง</td>\n",
       "      <td>13</td>\n",
       "      <td>ในเมือง</td>\n",
       "      <td>ผู้ชับขี่</td>\n",
       "      <td>จักรยานยนต์</td>\n",
       "      <td>รถตู้</td>\n",
       "      <td>ใส่หมวก</td>\n",
       "      <td>ไม่ดื่ม</td>\n",
       "      <td>มูลนิธิ/อาสาสมัคร</td>\n",
       "      <td>admit</td>\n",
       "      <td>ทุเลา/หาย</td>\n",
       "      <td>0</td>\n",
       "      <td>เอกชน</td>\n",
       "      <td>198.0</td>\n",
       "      <td>2008-01-02 21:01:00</td>\n",
       "    </tr>\n",
       "    <tr>\n",
       "      <th>2</th>\n",
       "      <td>กรุงเทพมหานคร</td>\n",
       "      <td>กรุงเทพคริสเตียน</td>\n",
       "      <td>31</td>\n",
       "      <td>หญิง</td>\n",
       "      <td>0</td>\n",
       "      <td>ในเมือง</td>\n",
       "      <td>ผู้โดยสาร</td>\n",
       "      <td>จักรยานยนต์</td>\n",
       "      <td>ปิคอัพ</td>\n",
       "      <td>ไม่ใส่</td>\n",
       "      <td>ไม่ดื่ม</td>\n",
       "      <td>ผู้ประสบเหตุ/ญาติ</td>\n",
       "      <td>ไม่</td>\n",
       "      <td>ทุเลา/หาย</td>\n",
       "      <td>0</td>\n",
       "      <td>เอกชน</td>\n",
       "      <td>198.0</td>\n",
       "      <td>2008-12-31 03:01:00</td>\n",
       "    </tr>\n",
       "    <tr>\n",
       "      <th>3</th>\n",
       "      <td>กรุงเทพมหานคร</td>\n",
       "      <td>กรุงเทพคริสเตียน</td>\n",
       "      <td>31</td>\n",
       "      <td>หญิง</td>\n",
       "      <td>0</td>\n",
       "      <td>ในเมือง</td>\n",
       "      <td>ผู้โดยสาร</td>\n",
       "      <td>จักรยานยนต์</td>\n",
       "      <td>ปิคอัพ</td>\n",
       "      <td>ใส่หมวก</td>\n",
       "      <td>ไม่ดื่ม</td>\n",
       "      <td>ผู้ประสบเหตุ/ญาติ</td>\n",
       "      <td>ไม่</td>\n",
       "      <td>ทุเลา/หาย</td>\n",
       "      <td>0</td>\n",
       "      <td>เอกชน</td>\n",
       "      <td>198.0</td>\n",
       "      <td>2008-12-31 03:01:00</td>\n",
       "    </tr>\n",
       "    <tr>\n",
       "      <th>4</th>\n",
       "      <td>กรุงเทพมหานคร</td>\n",
       "      <td>กรุงเทพคริสเตียน</td>\n",
       "      <td>31</td>\n",
       "      <td>ชาย</td>\n",
       "      <td>0</td>\n",
       "      <td>ในเมือง</td>\n",
       "      <td>ผู้ชับขี่</td>\n",
       "      <td>จักรยานยนต์</td>\n",
       "      <td>ปิคอัพ</td>\n",
       "      <td>ใส่หมวก</td>\n",
       "      <td>ดื่ม</td>\n",
       "      <td>ผู้ประสบเหตุ/ญาติ</td>\n",
       "      <td>ไม่</td>\n",
       "      <td>ทุเลา/หาย</td>\n",
       "      <td>0</td>\n",
       "      <td>เอกชน</td>\n",
       "      <td>198.0</td>\n",
       "      <td>2008-12-31 03:01:00</td>\n",
       "    </tr>\n",
       "  </tbody>\n",
       "</table>\n",
       "</div>"
      ],
      "text/plain": [
       "         จังหวัด ชื่อโรงพยาบาลที่รับผู้บาดเจ็บ  วันที่เกิดเหตุ   เพศ  อายุ  \\\n",
       "0  กรุงเทพมหานคร                       กรุงเทพ               3  หญิง    54   \n",
       "1  กรุงเทพมหานคร              กรุงเทพคริสเตียน               2  หญิง    13   \n",
       "2  กรุงเทพมหานคร              กรุงเทพคริสเตียน              31  หญิง     0   \n",
       "3  กรุงเทพมหานคร              กรุงเทพคริสเตียน              31  หญิง     0   \n",
       "4  กรุงเทพมหานคร              กรุงเทพคริสเตียน              31   ชาย     0   \n",
       "\n",
       "  ถนนที่เกิดเหตุ      สถานะ    รถผู้บาดเจ็บ     รถคู่กรณี  มาตรการ  \\\n",
       "0        ในเมือง  ผู้ชับขี่  รถเก๋ง/แท็กซี่  ไม่มี/ล้มเอง  เข็มขัด   \n",
       "1        ในเมือง  ผู้ชับขี่     จักรยานยนต์         รถตู้  ใส่หมวก   \n",
       "2        ในเมือง  ผู้โดยสาร     จักรยานยนต์        ปิคอัพ   ไม่ใส่   \n",
       "3        ในเมือง  ผู้โดยสาร     จักรยานยนต์        ปิคอัพ  ใส่หมวก   \n",
       "4        ในเมือง  ผู้ชับขี่     จักรยานยนต์        ปิคอัพ  ใส่หมวก   \n",
       "\n",
       "  การดื่มสุรา           การนำส่ง Refer-Admit ผลการรักษา  จำนวนวันรักษา  \\\n",
       "0     ไม่ดื่ม  ผู้ประสบเหตุ/ญาติ         ไม่  ทุเลา/หาย              0   \n",
       "1     ไม่ดื่ม  มูลนิธิ/อาสาสมัคร       admit  ทุเลา/หาย              0   \n",
       "2     ไม่ดื่ม  ผู้ประสบเหตุ/ญาติ         ไม่  ทุเลา/หาย              0   \n",
       "3     ไม่ดื่ม  ผู้ประสบเหตุ/ญาติ         ไม่  ทุเลา/หาย              0   \n",
       "4        ดื่ม  ผู้ประสบเหตุ/ญาติ         ไม่  ทุเลา/หาย              0   \n",
       "\n",
       "  ประเภทหน่วยงาน  จำนวนเตียงจริง_2559               dates  \n",
       "0          เอกชน                403.0 2008-01-03 12:01:00  \n",
       "1          เอกชน                198.0 2008-01-02 21:01:00  \n",
       "2          เอกชน                198.0 2008-12-31 03:01:00  \n",
       "3          เอกชน                198.0 2008-12-31 03:01:00  \n",
       "4          เอกชน                198.0 2008-12-31 03:01:00  "
      ]
     },
     "execution_count": 25,
     "metadata": {},
     "output_type": "execute_result"
    }
   ],
   "source": [
    "dead_day = pd.Series([], name=\"date\")\n",
    "\n",
    "df_raw['dates']= pd.to_datetime(ac_day, format='%d/%m/%Y %H:%M')\n",
    "df_raw.drop(['ชื่อเทศกาล','เวลาเกิดเหตุ','รหัสจังหวัด','รหัส รพ.'], axis=1, inplace=True)\n",
    "df_raw.head()"
   ]
  },
  {
   "cell_type": "code",
   "execution_count": 26,
   "metadata": {},
   "outputs": [],
   "source": [
    "#Convert ผลการรักษา to 0(Dead) or 1(Alive)"
   ]
  },
  {
   "cell_type": "code",
   "execution_count": 27,
   "metadata": {},
   "outputs": [],
   "source": [
    "df_raw['result'] = df_raw['ผลการรักษา']\n",
    "df_raw.loc[df_raw['result'] != 'ทุเลา/หาย','result'] = 0\n",
    "df_raw.loc[df_raw['result'] == 'ทุเลา/หาย','result'] = 1\n",
    "df_raw.drop(['ผลการรักษา'], axis=1, inplace=True)"
   ]
  },
  {
   "cell_type": "code",
   "execution_count": 28,
   "metadata": {},
   "outputs": [],
   "source": [
    "#Create year's end and new year\n",
    "df_raw['is_year_end'] = 0\n",
    "df_raw['is_new_year'] = 0\n",
    "df_raw.loc[df_raw['วันที่เกิดเหตุ'] == 31,'is_year_end'] = 1\n",
    "df_raw.loc[df_raw['วันที่เกิดเหตุ'] == 1,'is_new_year'] = 1\n",
    "df_raw.drop(['วันที่เกิดเหตุ'], axis=1, inplace=True)"
   ]
  },
  {
   "cell_type": "code",
   "execution_count": 29,
   "metadata": {},
   "outputs": [],
   "source": [
    "#Create ALS, BLS, ILS\n",
    "df_raw['BLS'] = 0\n",
    "df_raw['ALS'] = 0\n",
    "df_raw['ILS'] = 0\n",
    "df_raw.loc[df_raw['การนำส่ง'] == 'BLS','BLS'] = 1\n",
    "df_raw.loc[df_raw['การนำส่ง'] == 'ALS','ALS'] = 1\n",
    "df_raw.loc[df_raw['การนำส่ง'] == 'ILS','ILS'] = 1\n",
    "df_raw.drop(['การนำส่ง'], axis=1, inplace=True)"
   ]
  },
  {
   "cell_type": "code",
   "execution_count": 30,
   "metadata": {},
   "outputs": [],
   "source": [
    "#Grouping the enemy's vehicle"
   ]
  },
  {
   "cell_type": "code",
   "execution_count": 31,
   "metadata": {},
   "outputs": [],
   "source": [
    "df_raw['vehicle'] = ''\n",
    "df_raw.loc[df_raw['รถคู่กรณี'].isin(['จักรยานยนต์','สามล้อถีบ','รถจักรยาน','สามล้อเครื่อง']),'vehicle'] = \"Small\"\n",
    "df_raw.loc[df_raw['รถคู่กรณี'].isin(['รถโดยสาร 4 ล้อ','รถเก๋ง/แท็กซี่','ปิคอัพ','รถตู้']),'vehicle'] = \"Medium\"\n",
    "df_raw.loc[df_raw['รถคู่กรณี'].isin(['รถบรรทุก','รถโดยสารใหญ่']),'vehicle'] = \"Large\"\n",
    "df_raw.loc[df_raw['รถคู่กรณี'].isin(['อื่นๆ','ไม่ทราบ']),'vehicle'] = \"Unknown\"\n",
    "df_raw.loc[df_raw['รถคู่กรณี'] == 'ไม่มี/ล้มเอง', 'vehicle'] = \"Self\"\n",
    "df_raw.drop(['รถคู่กรณี'], axis=1, inplace=True)"
   ]
  },
  {
   "cell_type": "code",
   "execution_count": 32,
   "metadata": {},
   "outputs": [],
   "source": [
    "#Grouping age\n",
    "df_raw['age'] = df_raw['อายุ']\n",
    "df_raw.loc[(df_raw['อายุ'] >=1) & (df_raw['อายุ'] <=12), 'age'] = \"child\"\n",
    "df_raw.loc[(df_raw['อายุ'] >=13) & (df_raw['อายุ'] <=18), 'age'] = \"youth\"\n",
    "df_raw.loc[(df_raw['อายุ'] >=19) & (df_raw['อายุ'] <=30), 'age'] = \"early adult\"\n",
    "df_raw.loc[(df_raw['อายุ'] >=31) & (df_raw['อายุ'] <=45), 'age'] = \"late adult\"\n",
    "df_raw.loc[(df_raw['อายุ'] >=46) & (df_raw['อายุ'] <=60), 'age'] = \"early senior\"\n",
    "df_raw.loc[df_raw['อายุ'] >=61, 'age'] = \"senior\"\n",
    "df_raw.loc[df_raw['อายุ'] ==0, 'age'] = \"Unknown\""
   ]
  },
  {
   "cell_type": "code",
   "execution_count": 33,
   "metadata": {},
   "outputs": [],
   "source": [
    "#Grouping Region\n",
    "df_raw['region'] = ''\n",
    "df_raw.loc[df_raw['จังหวัด'].isin([\"เชียงราย\",\"เชียงใหม่\",\"น่าน\",\"พะเยา\",\"แพร่\",\"แม่ฮ่องสอน\",\"ลำปาง\",\"ลำพูน\",\"อุตรดิตถ์\"]),\"region\"] = \"North\"\n",
    "df_raw.loc[df_raw['จังหวัด'].isin([\"กาฬสินธุ์\",\"ขอนแก่น\",\"ชัยภูมิ\",\"นครพนม\",\"นครราชสีมา\",\"บึงกาฬ\",\"บุรีรัมย์\",\"มหาสารคาม\",\"มุกดาหาร\",\"ยโสธร\",\"ร้อยเอ็ด\",\"เลย\",\"ศรีสะเกษ\",\"สกลนคร\",\"สุรินทร์\",\"หนองคาย\",\"หนองบัวลำภู\",\"อำนาจเจริญ\",\"อุดรธานี\",\"อุบลราชธานี\"]),\"region\"] = \"Northeast\"\n",
    "df_raw.loc[df_raw['จังหวัด'].isin([\"กาญจนบุรี\",\"ตาก\",\"ประจวบคีรีขันธ์\",\"เพชรบุรี\",\"ราชบุรี\"]),\"region\"] = \"West\"\n",
    "df_raw.loc[df_raw['จังหวัด'].isin([\"กรุงเทพมหานคร\",\"กำแพงเพชร\",\"ชัยนาท\",\"นครนายก\",\"นครปฐม\",\"นครสวรรค์\",\"นนทบุรี\",\"ปทุมธานี\",\"พระนครศรีอยุธยา\",\"พิจิตร\",\"พิษณุโลก\",\"เพชรบูรณ์\",\"ลพบุรี\",\"สมุทรปราการ\",\"สมุทรสงคราม\",\"สมุทรสาคร\",\"สระบุรี\",\"สิงห์บุรี\",\"สุโขทัย\",\"สุพรรณบุรี\",\"อ่างทอง\",\"อุทัยธานี\"]\n",
    "),\"region\"] = \"Central\"\n",
    "df_raw.loc[df_raw['จังหวัด'].isin([\"จันทบุรี\",\"ชลบุรี\",\"ตราด\",\"ระยอง\",\"ฉะเชิงเทรา\",\"ปราจีนบุรี\",\"สระแก้ว\"]),\"region\"] = \"East\"\n",
    "df_raw.loc[df_raw['จังหวัด'].isin([\"กระบี่\",\"ชุมพร\",\"ตรัง\",\"นครศรีธรรมราช\",\"นราธิวาส\",\"ปัตตานี\",\"พังงา\",\"พัทลุง\",\"ภูเก็ต\",\"ยะลา\",\"ระนอง\",\"สงขลา\",\"สตูล\",\"สุราษฎร์ธานี\"]),\"region\"] = \"South\""
   ]
  },
  {
   "cell_type": "code",
   "execution_count": null,
   "metadata": {},
   "outputs": [],
   "source": []
  },
  {
   "cell_type": "code",
   "execution_count": 34,
   "metadata": {
    "scrolled": false
   },
   "outputs": [
    {
     "data": {
      "text/html": [
       "<div>\n",
       "<style scoped>\n",
       "    .dataframe tbody tr th:only-of-type {\n",
       "        vertical-align: middle;\n",
       "    }\n",
       "\n",
       "    .dataframe tbody tr th {\n",
       "        vertical-align: top;\n",
       "    }\n",
       "\n",
       "    .dataframe thead th {\n",
       "        text-align: right;\n",
       "    }\n",
       "</style>\n",
       "<table border=\"1\" class=\"dataframe\">\n",
       "  <thead>\n",
       "    <tr style=\"text-align: right;\">\n",
       "      <th></th>\n",
       "      <th>214945</th>\n",
       "      <th>214946</th>\n",
       "      <th>214947</th>\n",
       "      <th>214948</th>\n",
       "      <th>214949</th>\n",
       "    </tr>\n",
       "  </thead>\n",
       "  <tbody>\n",
       "    <tr>\n",
       "      <th>จังหวัด</th>\n",
       "      <td>บึงกาฬ</td>\n",
       "      <td>บึงกาฬ</td>\n",
       "      <td>บึงกาฬ</td>\n",
       "      <td>บึงกาฬ</td>\n",
       "      <td>บึงกาฬ</td>\n",
       "    </tr>\n",
       "    <tr>\n",
       "      <th>ชื่อโรงพยาบาลที่รับผู้บาดเจ็บ</th>\n",
       "      <td>ศรีวิไล</td>\n",
       "      <td>ศรีวิไล</td>\n",
       "      <td>ศรีวิไล</td>\n",
       "      <td>ศรีวิไล</td>\n",
       "      <td>ศรีวิไล</td>\n",
       "    </tr>\n",
       "    <tr>\n",
       "      <th>เพศ</th>\n",
       "      <td>ชาย</td>\n",
       "      <td>หญิง</td>\n",
       "      <td>ชาย</td>\n",
       "      <td>ชาย</td>\n",
       "      <td>ชาย</td>\n",
       "    </tr>\n",
       "    <tr>\n",
       "      <th>อายุ</th>\n",
       "      <td>3</td>\n",
       "      <td>4</td>\n",
       "      <td>20</td>\n",
       "      <td>16</td>\n",
       "      <td>19</td>\n",
       "    </tr>\n",
       "    <tr>\n",
       "      <th>ถนนที่เกิดเหตุ</th>\n",
       "      <td>ชนบท</td>\n",
       "      <td>ชนบท</td>\n",
       "      <td>ชนบท</td>\n",
       "      <td>ชนบท</td>\n",
       "      <td>ทางหลวง</td>\n",
       "    </tr>\n",
       "    <tr>\n",
       "      <th>สถานะ</th>\n",
       "      <td>คนเดินเท้า</td>\n",
       "      <td>คนเดินเท้า</td>\n",
       "      <td>ผู้ชับขี่</td>\n",
       "      <td>ผู้ชับขี่</td>\n",
       "      <td>ผู้ชับขี่</td>\n",
       "    </tr>\n",
       "    <tr>\n",
       "      <th>รถผู้บาดเจ็บ</th>\n",
       "      <td>ไม่มี/ล้มเอง</td>\n",
       "      <td>ไม่มี/ล้มเอง</td>\n",
       "      <td>จักรยานยนต์</td>\n",
       "      <td>จักรยานยนต์</td>\n",
       "      <td>จักรยานยนต์</td>\n",
       "    </tr>\n",
       "    <tr>\n",
       "      <th>มาตรการ</th>\n",
       "      <td>ไม่ใส่</td>\n",
       "      <td>ไม่ใส่</td>\n",
       "      <td>ไม่ใส่</td>\n",
       "      <td>ไม่ใส่</td>\n",
       "      <td>ใส่หมวก</td>\n",
       "    </tr>\n",
       "    <tr>\n",
       "      <th>การดื่มสุรา</th>\n",
       "      <td>ไม่ดื่ม</td>\n",
       "      <td>ไม่ดื่ม</td>\n",
       "      <td>ไม่ดื่ม</td>\n",
       "      <td>ดื่ม</td>\n",
       "      <td>ไม่ดื่ม</td>\n",
       "    </tr>\n",
       "    <tr>\n",
       "      <th>Refer-Admit</th>\n",
       "      <td>ไม่</td>\n",
       "      <td>ไม่</td>\n",
       "      <td>ส่งต่อก่อน admit</td>\n",
       "      <td>ส่งต่อก่อน admit</td>\n",
       "      <td>ส่งต่อก่อน admit</td>\n",
       "    </tr>\n",
       "    <tr>\n",
       "      <th>จำนวนวันรักษา</th>\n",
       "      <td>0</td>\n",
       "      <td>0</td>\n",
       "      <td>0</td>\n",
       "      <td>0</td>\n",
       "      <td>0</td>\n",
       "    </tr>\n",
       "    <tr>\n",
       "      <th>ประเภทหน่วยงาน</th>\n",
       "      <td>ชุมชน</td>\n",
       "      <td>ชุมชน</td>\n",
       "      <td>ชุมชน</td>\n",
       "      <td>ชุมชน</td>\n",
       "      <td>ชุมชน</td>\n",
       "    </tr>\n",
       "    <tr>\n",
       "      <th>จำนวนเตียงจริง_2559</th>\n",
       "      <td>38</td>\n",
       "      <td>38</td>\n",
       "      <td>38</td>\n",
       "      <td>38</td>\n",
       "      <td>38</td>\n",
       "    </tr>\n",
       "    <tr>\n",
       "      <th>dates</th>\n",
       "      <td>2015-12-31 09:01:00</td>\n",
       "      <td>2015-12-30 16:01:00</td>\n",
       "      <td>2015-12-30 00:01:00</td>\n",
       "      <td>2015-12-31 14:01:00</td>\n",
       "      <td>2015-01-05 15:01:00</td>\n",
       "    </tr>\n",
       "    <tr>\n",
       "      <th>result</th>\n",
       "      <td>1</td>\n",
       "      <td>1</td>\n",
       "      <td>1</td>\n",
       "      <td>1</td>\n",
       "      <td>1</td>\n",
       "    </tr>\n",
       "    <tr>\n",
       "      <th>is_year_end</th>\n",
       "      <td>1</td>\n",
       "      <td>0</td>\n",
       "      <td>0</td>\n",
       "      <td>1</td>\n",
       "      <td>0</td>\n",
       "    </tr>\n",
       "    <tr>\n",
       "      <th>is_new_year</th>\n",
       "      <td>0</td>\n",
       "      <td>0</td>\n",
       "      <td>0</td>\n",
       "      <td>0</td>\n",
       "      <td>0</td>\n",
       "    </tr>\n",
       "    <tr>\n",
       "      <th>BLS</th>\n",
       "      <td>0</td>\n",
       "      <td>0</td>\n",
       "      <td>0</td>\n",
       "      <td>0</td>\n",
       "      <td>0</td>\n",
       "    </tr>\n",
       "    <tr>\n",
       "      <th>ALS</th>\n",
       "      <td>0</td>\n",
       "      <td>0</td>\n",
       "      <td>1</td>\n",
       "      <td>0</td>\n",
       "      <td>0</td>\n",
       "    </tr>\n",
       "    <tr>\n",
       "      <th>ILS</th>\n",
       "      <td>0</td>\n",
       "      <td>0</td>\n",
       "      <td>0</td>\n",
       "      <td>0</td>\n",
       "      <td>0</td>\n",
       "    </tr>\n",
       "    <tr>\n",
       "      <th>vehicle</th>\n",
       "      <td>Small</td>\n",
       "      <td>Small</td>\n",
       "      <td>Medium</td>\n",
       "      <td>Self</td>\n",
       "      <td>Small</td>\n",
       "    </tr>\n",
       "    <tr>\n",
       "      <th>age</th>\n",
       "      <td>child</td>\n",
       "      <td>child</td>\n",
       "      <td>early adult</td>\n",
       "      <td>youth</td>\n",
       "      <td>early adult</td>\n",
       "    </tr>\n",
       "    <tr>\n",
       "      <th>region</th>\n",
       "      <td>Northeast</td>\n",
       "      <td>Northeast</td>\n",
       "      <td>Northeast</td>\n",
       "      <td>Northeast</td>\n",
       "      <td>Northeast</td>\n",
       "    </tr>\n",
       "  </tbody>\n",
       "</table>\n",
       "</div>"
      ],
      "text/plain": [
       "                                            214945               214946  \\\n",
       "จังหวัด                                     บึงกาฬ               บึงกาฬ   \n",
       "ชื่อโรงพยาบาลที่รับผู้บาดเจ็บ              ศรีวิไล              ศรีวิไล   \n",
       "เพศ                                            ชาย                 หญิง   \n",
       "อายุ                                             3                    4   \n",
       "ถนนที่เกิดเหตุ                                ชนบท                 ชนบท   \n",
       "สถานะ                                   คนเดินเท้า           คนเดินเท้า   \n",
       "รถผู้บาดเจ็บ                          ไม่มี/ล้มเอง         ไม่มี/ล้มเอง   \n",
       "มาตรการ                                     ไม่ใส่               ไม่ใส่   \n",
       "การดื่มสุรา                                ไม่ดื่ม              ไม่ดื่ม   \n",
       "Refer-Admit                                    ไม่                  ไม่   \n",
       "จำนวนวันรักษา                                    0                    0   \n",
       "ประเภทหน่วยงาน                               ชุมชน                ชุมชน   \n",
       "จำนวนเตียงจริง_2559                             38                   38   \n",
       "dates                          2015-12-31 09:01:00  2015-12-30 16:01:00   \n",
       "result                                           1                    1   \n",
       "is_year_end                                      1                    0   \n",
       "is_new_year                                      0                    0   \n",
       "BLS                                              0                    0   \n",
       "ALS                                              0                    0   \n",
       "ILS                                              0                    0   \n",
       "vehicle                                      Small                Small   \n",
       "age                                          child                child   \n",
       "region                                   Northeast            Northeast   \n",
       "\n",
       "                                            214947               214948  \\\n",
       "จังหวัด                                     บึงกาฬ               บึงกาฬ   \n",
       "ชื่อโรงพยาบาลที่รับผู้บาดเจ็บ              ศรีวิไล              ศรีวิไล   \n",
       "เพศ                                            ชาย                  ชาย   \n",
       "อายุ                                            20                   16   \n",
       "ถนนที่เกิดเหตุ                                ชนบท                 ชนบท   \n",
       "สถานะ                                    ผู้ชับขี่            ผู้ชับขี่   \n",
       "รถผู้บาดเจ็บ                           จักรยานยนต์          จักรยานยนต์   \n",
       "มาตรการ                                     ไม่ใส่               ไม่ใส่   \n",
       "การดื่มสุรา                                ไม่ดื่ม                 ดื่ม   \n",
       "Refer-Admit                       ส่งต่อก่อน admit     ส่งต่อก่อน admit   \n",
       "จำนวนวันรักษา                                    0                    0   \n",
       "ประเภทหน่วยงาน                               ชุมชน                ชุมชน   \n",
       "จำนวนเตียงจริง_2559                             38                   38   \n",
       "dates                          2015-12-30 00:01:00  2015-12-31 14:01:00   \n",
       "result                                           1                    1   \n",
       "is_year_end                                      0                    1   \n",
       "is_new_year                                      0                    0   \n",
       "BLS                                              0                    0   \n",
       "ALS                                              1                    0   \n",
       "ILS                                              0                    0   \n",
       "vehicle                                     Medium                 Self   \n",
       "age                                    early adult                youth   \n",
       "region                                   Northeast            Northeast   \n",
       "\n",
       "                                            214949  \n",
       "จังหวัด                                     บึงกาฬ  \n",
       "ชื่อโรงพยาบาลที่รับผู้บาดเจ็บ              ศรีวิไล  \n",
       "เพศ                                            ชาย  \n",
       "อายุ                                            19  \n",
       "ถนนที่เกิดเหตุ                             ทางหลวง  \n",
       "สถานะ                                    ผู้ชับขี่  \n",
       "รถผู้บาดเจ็บ                           จักรยานยนต์  \n",
       "มาตรการ                                    ใส่หมวก  \n",
       "การดื่มสุรา                                ไม่ดื่ม  \n",
       "Refer-Admit                       ส่งต่อก่อน admit  \n",
       "จำนวนวันรักษา                                    0  \n",
       "ประเภทหน่วยงาน                               ชุมชน  \n",
       "จำนวนเตียงจริง_2559                             38  \n",
       "dates                          2015-01-05 15:01:00  \n",
       "result                                           1  \n",
       "is_year_end                                      0  \n",
       "is_new_year                                      0  \n",
       "BLS                                              0  \n",
       "ALS                                              0  \n",
       "ILS                                              0  \n",
       "vehicle                                      Small  \n",
       "age                                    early adult  \n",
       "region                                   Northeast  "
      ]
     },
     "execution_count": 34,
     "metadata": {},
     "output_type": "execute_result"
    }
   ],
   "source": [
    "df_raw.tail().T"
   ]
  },
  {
   "cell_type": "markdown",
   "metadata": {},
   "source": [
    "From here, we will using Fastai library, to convert data to category, and using feature add_datepart"
   ]
  },
  {
   "cell_type": "code",
   "execution_count": 35,
   "metadata": {},
   "outputs": [],
   "source": [
    "train_cats(df_raw)"
   ]
  },
  {
   "cell_type": "code",
   "execution_count": 36,
   "metadata": {},
   "outputs": [],
   "source": [
    "add_datepart(df_raw, 'dates')"
   ]
  },
  {
   "cell_type": "code",
   "execution_count": 37,
   "metadata": {},
   "outputs": [],
   "source": [
    "df_raw.drop([\"datesIs_month_end\",\"datesIs_month_start\",\"datesIs_quarter_end\",\"datesIs_quarter_start\",\"datesIs_year_end\",\"datesIs_quarter_start\",\"datesIs_year_end\",\"datesIs_year_start\",\"datesElapsed\",\"อายุ\",\"จังหวัด\"], axis=1, inplace=True)"
   ]
  },
  {
   "cell_type": "markdown",
   "metadata": {},
   "source": [
    "proc_df is also from Fastai library, that split X and y from data easily"
   ]
  },
  {
   "cell_type": "code",
   "execution_count": 38,
   "metadata": {},
   "outputs": [],
   "source": [
    "df, y, nas, mapper = proc_df(df_raw, 'result', do_scale=True)"
   ]
  },
  {
   "cell_type": "code",
   "execution_count": 39,
   "metadata": {
    "scrolled": true
   },
   "outputs": [
    {
     "data": {
      "text/html": [
       "<div>\n",
       "<style scoped>\n",
       "    .dataframe tbody tr th:only-of-type {\n",
       "        vertical-align: middle;\n",
       "    }\n",
       "\n",
       "    .dataframe tbody tr th {\n",
       "        vertical-align: top;\n",
       "    }\n",
       "\n",
       "    .dataframe thead th {\n",
       "        text-align: right;\n",
       "    }\n",
       "</style>\n",
       "<table border=\"1\" class=\"dataframe\">\n",
       "  <thead>\n",
       "    <tr style=\"text-align: right;\">\n",
       "      <th></th>\n",
       "      <th>0</th>\n",
       "      <th>1</th>\n",
       "      <th>2</th>\n",
       "      <th>3</th>\n",
       "      <th>4</th>\n",
       "    </tr>\n",
       "  </thead>\n",
       "  <tbody>\n",
       "    <tr>\n",
       "      <th>ชื่อโรงพยาบาลที่รับผู้บาดเจ็บ</th>\n",
       "      <td>กรุงเทพ</td>\n",
       "      <td>กรุงเทพคริสเตียน</td>\n",
       "      <td>กรุงเทพคริสเตียน</td>\n",
       "      <td>กรุงเทพคริสเตียน</td>\n",
       "      <td>กรุงเทพคริสเตียน</td>\n",
       "    </tr>\n",
       "    <tr>\n",
       "      <th>เพศ</th>\n",
       "      <td>หญิง</td>\n",
       "      <td>หญิง</td>\n",
       "      <td>หญิง</td>\n",
       "      <td>หญิง</td>\n",
       "      <td>ชาย</td>\n",
       "    </tr>\n",
       "    <tr>\n",
       "      <th>ถนนที่เกิดเหตุ</th>\n",
       "      <td>ในเมือง</td>\n",
       "      <td>ในเมือง</td>\n",
       "      <td>ในเมือง</td>\n",
       "      <td>ในเมือง</td>\n",
       "      <td>ในเมือง</td>\n",
       "    </tr>\n",
       "    <tr>\n",
       "      <th>สถานะ</th>\n",
       "      <td>ผู้ชับขี่</td>\n",
       "      <td>ผู้ชับขี่</td>\n",
       "      <td>ผู้โดยสาร</td>\n",
       "      <td>ผู้โดยสาร</td>\n",
       "      <td>ผู้ชับขี่</td>\n",
       "    </tr>\n",
       "    <tr>\n",
       "      <th>รถผู้บาดเจ็บ</th>\n",
       "      <td>รถเก๋ง/แท็กซี่</td>\n",
       "      <td>จักรยานยนต์</td>\n",
       "      <td>จักรยานยนต์</td>\n",
       "      <td>จักรยานยนต์</td>\n",
       "      <td>จักรยานยนต์</td>\n",
       "    </tr>\n",
       "    <tr>\n",
       "      <th>มาตรการ</th>\n",
       "      <td>เข็มขัด</td>\n",
       "      <td>ใส่หมวก</td>\n",
       "      <td>ไม่ใส่</td>\n",
       "      <td>ใส่หมวก</td>\n",
       "      <td>ใส่หมวก</td>\n",
       "    </tr>\n",
       "    <tr>\n",
       "      <th>การดื่มสุรา</th>\n",
       "      <td>ไม่ดื่ม</td>\n",
       "      <td>ไม่ดื่ม</td>\n",
       "      <td>ไม่ดื่ม</td>\n",
       "      <td>ไม่ดื่ม</td>\n",
       "      <td>ดื่ม</td>\n",
       "    </tr>\n",
       "    <tr>\n",
       "      <th>Refer-Admit</th>\n",
       "      <td>ไม่</td>\n",
       "      <td>admit</td>\n",
       "      <td>ไม่</td>\n",
       "      <td>ไม่</td>\n",
       "      <td>ไม่</td>\n",
       "    </tr>\n",
       "    <tr>\n",
       "      <th>จำนวนวันรักษา</th>\n",
       "      <td>0</td>\n",
       "      <td>0</td>\n",
       "      <td>0</td>\n",
       "      <td>0</td>\n",
       "      <td>0</td>\n",
       "    </tr>\n",
       "    <tr>\n",
       "      <th>ประเภทหน่วยงาน</th>\n",
       "      <td>เอกชน</td>\n",
       "      <td>เอกชน</td>\n",
       "      <td>เอกชน</td>\n",
       "      <td>เอกชน</td>\n",
       "      <td>เอกชน</td>\n",
       "    </tr>\n",
       "    <tr>\n",
       "      <th>จำนวนเตียงจริง_2559</th>\n",
       "      <td>403</td>\n",
       "      <td>198</td>\n",
       "      <td>198</td>\n",
       "      <td>198</td>\n",
       "      <td>198</td>\n",
       "    </tr>\n",
       "    <tr>\n",
       "      <th>result</th>\n",
       "      <td>1</td>\n",
       "      <td>1</td>\n",
       "      <td>1</td>\n",
       "      <td>1</td>\n",
       "      <td>1</td>\n",
       "    </tr>\n",
       "    <tr>\n",
       "      <th>is_year_end</th>\n",
       "      <td>0</td>\n",
       "      <td>0</td>\n",
       "      <td>1</td>\n",
       "      <td>1</td>\n",
       "      <td>1</td>\n",
       "    </tr>\n",
       "    <tr>\n",
       "      <th>is_new_year</th>\n",
       "      <td>0</td>\n",
       "      <td>0</td>\n",
       "      <td>0</td>\n",
       "      <td>0</td>\n",
       "      <td>0</td>\n",
       "    </tr>\n",
       "    <tr>\n",
       "      <th>BLS</th>\n",
       "      <td>0</td>\n",
       "      <td>0</td>\n",
       "      <td>0</td>\n",
       "      <td>0</td>\n",
       "      <td>0</td>\n",
       "    </tr>\n",
       "    <tr>\n",
       "      <th>ALS</th>\n",
       "      <td>0</td>\n",
       "      <td>0</td>\n",
       "      <td>0</td>\n",
       "      <td>0</td>\n",
       "      <td>0</td>\n",
       "    </tr>\n",
       "    <tr>\n",
       "      <th>ILS</th>\n",
       "      <td>0</td>\n",
       "      <td>0</td>\n",
       "      <td>0</td>\n",
       "      <td>0</td>\n",
       "      <td>0</td>\n",
       "    </tr>\n",
       "    <tr>\n",
       "      <th>vehicle</th>\n",
       "      <td>Self</td>\n",
       "      <td>Medium</td>\n",
       "      <td>Medium</td>\n",
       "      <td>Medium</td>\n",
       "      <td>Medium</td>\n",
       "    </tr>\n",
       "    <tr>\n",
       "      <th>age</th>\n",
       "      <td>early senior</td>\n",
       "      <td>youth</td>\n",
       "      <td>Unknown</td>\n",
       "      <td>Unknown</td>\n",
       "      <td>Unknown</td>\n",
       "    </tr>\n",
       "    <tr>\n",
       "      <th>region</th>\n",
       "      <td>Central</td>\n",
       "      <td>Central</td>\n",
       "      <td>Central</td>\n",
       "      <td>Central</td>\n",
       "      <td>Central</td>\n",
       "    </tr>\n",
       "    <tr>\n",
       "      <th>datesYear</th>\n",
       "      <td>2008</td>\n",
       "      <td>2008</td>\n",
       "      <td>2008</td>\n",
       "      <td>2008</td>\n",
       "      <td>2008</td>\n",
       "    </tr>\n",
       "    <tr>\n",
       "      <th>datesMonth</th>\n",
       "      <td>1</td>\n",
       "      <td>1</td>\n",
       "      <td>12</td>\n",
       "      <td>12</td>\n",
       "      <td>12</td>\n",
       "    </tr>\n",
       "    <tr>\n",
       "      <th>datesWeek</th>\n",
       "      <td>1</td>\n",
       "      <td>1</td>\n",
       "      <td>1</td>\n",
       "      <td>1</td>\n",
       "      <td>1</td>\n",
       "    </tr>\n",
       "    <tr>\n",
       "      <th>datesDay</th>\n",
       "      <td>3</td>\n",
       "      <td>2</td>\n",
       "      <td>31</td>\n",
       "      <td>31</td>\n",
       "      <td>31</td>\n",
       "    </tr>\n",
       "    <tr>\n",
       "      <th>datesDayofweek</th>\n",
       "      <td>3</td>\n",
       "      <td>2</td>\n",
       "      <td>2</td>\n",
       "      <td>2</td>\n",
       "      <td>2</td>\n",
       "    </tr>\n",
       "    <tr>\n",
       "      <th>datesDayofyear</th>\n",
       "      <td>3</td>\n",
       "      <td>2</td>\n",
       "      <td>366</td>\n",
       "      <td>366</td>\n",
       "      <td>366</td>\n",
       "    </tr>\n",
       "  </tbody>\n",
       "</table>\n",
       "</div>"
      ],
      "text/plain": [
       "                                            0                 1  \\\n",
       "ชื่อโรงพยาบาลที่รับผู้บาดเจ็บ         กรุงเทพ  กรุงเทพคริสเตียน   \n",
       "เพศ                                      หญิง              หญิง   \n",
       "ถนนที่เกิดเหตุ                        ในเมือง           ในเมือง   \n",
       "สถานะ                               ผู้ชับขี่         ผู้ชับขี่   \n",
       "รถผู้บาดเจ็บ                   รถเก๋ง/แท็กซี่       จักรยานยนต์   \n",
       "มาตรการ                               เข็มขัด           ใส่หมวก   \n",
       "การดื่มสุรา                           ไม่ดื่ม           ไม่ดื่ม   \n",
       "Refer-Admit                               ไม่             admit   \n",
       "จำนวนวันรักษา                               0                 0   \n",
       "ประเภทหน่วยงาน                          เอกชน             เอกชน   \n",
       "จำนวนเตียงจริง_2559                       403               198   \n",
       "result                                      1                 1   \n",
       "is_year_end                                 0                 0   \n",
       "is_new_year                                 0                 0   \n",
       "BLS                                         0                 0   \n",
       "ALS                                         0                 0   \n",
       "ILS                                         0                 0   \n",
       "vehicle                                  Self            Medium   \n",
       "age                              early senior             youth   \n",
       "region                                Central           Central   \n",
       "datesYear                                2008              2008   \n",
       "datesMonth                                  1                 1   \n",
       "datesWeek                                   1                 1   \n",
       "datesDay                                    3                 2   \n",
       "datesDayofweek                              3                 2   \n",
       "datesDayofyear                              3                 2   \n",
       "\n",
       "                                              2                 3  \\\n",
       "ชื่อโรงพยาบาลที่รับผู้บาดเจ็บ  กรุงเทพคริสเตียน  กรุงเทพคริสเตียน   \n",
       "เพศ                                        หญิง              หญิง   \n",
       "ถนนที่เกิดเหตุ                          ในเมือง           ในเมือง   \n",
       "สถานะ                                 ผู้โดยสาร         ผู้โดยสาร   \n",
       "รถผู้บาดเจ็บ                        จักรยานยนต์       จักรยานยนต์   \n",
       "มาตรการ                                  ไม่ใส่           ใส่หมวก   \n",
       "การดื่มสุรา                             ไม่ดื่ม           ไม่ดื่ม   \n",
       "Refer-Admit                                 ไม่               ไม่   \n",
       "จำนวนวันรักษา                                 0                 0   \n",
       "ประเภทหน่วยงาน                            เอกชน             เอกชน   \n",
       "จำนวนเตียงจริง_2559                         198               198   \n",
       "result                                        1                 1   \n",
       "is_year_end                                   1                 1   \n",
       "is_new_year                                   0                 0   \n",
       "BLS                                           0                 0   \n",
       "ALS                                           0                 0   \n",
       "ILS                                           0                 0   \n",
       "vehicle                                  Medium            Medium   \n",
       "age                                     Unknown           Unknown   \n",
       "region                                  Central           Central   \n",
       "datesYear                                  2008              2008   \n",
       "datesMonth                                   12                12   \n",
       "datesWeek                                     1                 1   \n",
       "datesDay                                     31                31   \n",
       "datesDayofweek                                2                 2   \n",
       "datesDayofyear                              366               366   \n",
       "\n",
       "                                              4  \n",
       "ชื่อโรงพยาบาลที่รับผู้บาดเจ็บ  กรุงเทพคริสเตียน  \n",
       "เพศ                                         ชาย  \n",
       "ถนนที่เกิดเหตุ                          ในเมือง  \n",
       "สถานะ                                 ผู้ชับขี่  \n",
       "รถผู้บาดเจ็บ                        จักรยานยนต์  \n",
       "มาตรการ                                 ใส่หมวก  \n",
       "การดื่มสุรา                                ดื่ม  \n",
       "Refer-Admit                                 ไม่  \n",
       "จำนวนวันรักษา                                 0  \n",
       "ประเภทหน่วยงาน                            เอกชน  \n",
       "จำนวนเตียงจริง_2559                         198  \n",
       "result                                        1  \n",
       "is_year_end                                   1  \n",
       "is_new_year                                   0  \n",
       "BLS                                           0  \n",
       "ALS                                           0  \n",
       "ILS                                           0  \n",
       "vehicle                                  Medium  \n",
       "age                                     Unknown  \n",
       "region                                  Central  \n",
       "datesYear                                  2008  \n",
       "datesMonth                                   12  \n",
       "datesWeek                                     1  \n",
       "datesDay                                     31  \n",
       "datesDayofweek                                2  \n",
       "datesDayofyear                              366  "
      ]
     },
     "execution_count": 39,
     "metadata": {},
     "output_type": "execute_result"
    }
   ],
   "source": [
    "df_raw.head().T"
   ]
  },
  {
   "cell_type": "code",
   "execution_count": 40,
   "metadata": {},
   "outputs": [],
   "source": [
    "df_raw = df_raw.reset_index()"
   ]
  },
  {
   "cell_type": "code",
   "execution_count": 41,
   "metadata": {},
   "outputs": [],
   "source": [
    "df_raw.drop([\"index\"], axis = 1, inplace=True)"
   ]
  },
  {
   "cell_type": "code",
   "execution_count": 42,
   "metadata": {
    "scrolled": false
   },
   "outputs": [
    {
     "data": {
      "text/html": [
       "<div>\n",
       "<style scoped>\n",
       "    .dataframe tbody tr th:only-of-type {\n",
       "        vertical-align: middle;\n",
       "    }\n",
       "\n",
       "    .dataframe tbody tr th {\n",
       "        vertical-align: top;\n",
       "    }\n",
       "\n",
       "    .dataframe thead th {\n",
       "        text-align: right;\n",
       "    }\n",
       "</style>\n",
       "<table border=\"1\" class=\"dataframe\">\n",
       "  <thead>\n",
       "    <tr style=\"text-align: right;\">\n",
       "      <th></th>\n",
       "      <th>0</th>\n",
       "      <th>1</th>\n",
       "      <th>2</th>\n",
       "      <th>3</th>\n",
       "      <th>4</th>\n",
       "    </tr>\n",
       "  </thead>\n",
       "  <tbody>\n",
       "    <tr>\n",
       "      <th>ชื่อโรงพยาบาลที่รับผู้บาดเจ็บ</th>\n",
       "      <td>กรุงเทพ</td>\n",
       "      <td>กรุงเทพคริสเตียน</td>\n",
       "      <td>กรุงเทพคริสเตียน</td>\n",
       "      <td>กรุงเทพคริสเตียน</td>\n",
       "      <td>กรุงเทพคริสเตียน</td>\n",
       "    </tr>\n",
       "    <tr>\n",
       "      <th>เพศ</th>\n",
       "      <td>หญิง</td>\n",
       "      <td>หญิง</td>\n",
       "      <td>หญิง</td>\n",
       "      <td>หญิง</td>\n",
       "      <td>ชาย</td>\n",
       "    </tr>\n",
       "    <tr>\n",
       "      <th>ถนนที่เกิดเหตุ</th>\n",
       "      <td>ในเมือง</td>\n",
       "      <td>ในเมือง</td>\n",
       "      <td>ในเมือง</td>\n",
       "      <td>ในเมือง</td>\n",
       "      <td>ในเมือง</td>\n",
       "    </tr>\n",
       "    <tr>\n",
       "      <th>สถานะ</th>\n",
       "      <td>ผู้ชับขี่</td>\n",
       "      <td>ผู้ชับขี่</td>\n",
       "      <td>ผู้โดยสาร</td>\n",
       "      <td>ผู้โดยสาร</td>\n",
       "      <td>ผู้ชับขี่</td>\n",
       "    </tr>\n",
       "    <tr>\n",
       "      <th>รถผู้บาดเจ็บ</th>\n",
       "      <td>รถเก๋ง/แท็กซี่</td>\n",
       "      <td>จักรยานยนต์</td>\n",
       "      <td>จักรยานยนต์</td>\n",
       "      <td>จักรยานยนต์</td>\n",
       "      <td>จักรยานยนต์</td>\n",
       "    </tr>\n",
       "    <tr>\n",
       "      <th>มาตรการ</th>\n",
       "      <td>เข็มขัด</td>\n",
       "      <td>ใส่หมวก</td>\n",
       "      <td>ไม่ใส่</td>\n",
       "      <td>ใส่หมวก</td>\n",
       "      <td>ใส่หมวก</td>\n",
       "    </tr>\n",
       "    <tr>\n",
       "      <th>การดื่มสุรา</th>\n",
       "      <td>ไม่ดื่ม</td>\n",
       "      <td>ไม่ดื่ม</td>\n",
       "      <td>ไม่ดื่ม</td>\n",
       "      <td>ไม่ดื่ม</td>\n",
       "      <td>ดื่ม</td>\n",
       "    </tr>\n",
       "    <tr>\n",
       "      <th>Refer-Admit</th>\n",
       "      <td>ไม่</td>\n",
       "      <td>admit</td>\n",
       "      <td>ไม่</td>\n",
       "      <td>ไม่</td>\n",
       "      <td>ไม่</td>\n",
       "    </tr>\n",
       "    <tr>\n",
       "      <th>จำนวนวันรักษา</th>\n",
       "      <td>0</td>\n",
       "      <td>0</td>\n",
       "      <td>0</td>\n",
       "      <td>0</td>\n",
       "      <td>0</td>\n",
       "    </tr>\n",
       "    <tr>\n",
       "      <th>ประเภทหน่วยงาน</th>\n",
       "      <td>เอกชน</td>\n",
       "      <td>เอกชน</td>\n",
       "      <td>เอกชน</td>\n",
       "      <td>เอกชน</td>\n",
       "      <td>เอกชน</td>\n",
       "    </tr>\n",
       "    <tr>\n",
       "      <th>จำนวนเตียงจริง_2559</th>\n",
       "      <td>403</td>\n",
       "      <td>198</td>\n",
       "      <td>198</td>\n",
       "      <td>198</td>\n",
       "      <td>198</td>\n",
       "    </tr>\n",
       "    <tr>\n",
       "      <th>result</th>\n",
       "      <td>1</td>\n",
       "      <td>1</td>\n",
       "      <td>1</td>\n",
       "      <td>1</td>\n",
       "      <td>1</td>\n",
       "    </tr>\n",
       "    <tr>\n",
       "      <th>is_year_end</th>\n",
       "      <td>0</td>\n",
       "      <td>0</td>\n",
       "      <td>1</td>\n",
       "      <td>1</td>\n",
       "      <td>1</td>\n",
       "    </tr>\n",
       "    <tr>\n",
       "      <th>is_new_year</th>\n",
       "      <td>0</td>\n",
       "      <td>0</td>\n",
       "      <td>0</td>\n",
       "      <td>0</td>\n",
       "      <td>0</td>\n",
       "    </tr>\n",
       "    <tr>\n",
       "      <th>BLS</th>\n",
       "      <td>0</td>\n",
       "      <td>0</td>\n",
       "      <td>0</td>\n",
       "      <td>0</td>\n",
       "      <td>0</td>\n",
       "    </tr>\n",
       "    <tr>\n",
       "      <th>ALS</th>\n",
       "      <td>0</td>\n",
       "      <td>0</td>\n",
       "      <td>0</td>\n",
       "      <td>0</td>\n",
       "      <td>0</td>\n",
       "    </tr>\n",
       "    <tr>\n",
       "      <th>ILS</th>\n",
       "      <td>0</td>\n",
       "      <td>0</td>\n",
       "      <td>0</td>\n",
       "      <td>0</td>\n",
       "      <td>0</td>\n",
       "    </tr>\n",
       "    <tr>\n",
       "      <th>vehicle</th>\n",
       "      <td>Self</td>\n",
       "      <td>Medium</td>\n",
       "      <td>Medium</td>\n",
       "      <td>Medium</td>\n",
       "      <td>Medium</td>\n",
       "    </tr>\n",
       "    <tr>\n",
       "      <th>age</th>\n",
       "      <td>early senior</td>\n",
       "      <td>youth</td>\n",
       "      <td>Unknown</td>\n",
       "      <td>Unknown</td>\n",
       "      <td>Unknown</td>\n",
       "    </tr>\n",
       "    <tr>\n",
       "      <th>region</th>\n",
       "      <td>Central</td>\n",
       "      <td>Central</td>\n",
       "      <td>Central</td>\n",
       "      <td>Central</td>\n",
       "      <td>Central</td>\n",
       "    </tr>\n",
       "    <tr>\n",
       "      <th>datesYear</th>\n",
       "      <td>2008</td>\n",
       "      <td>2008</td>\n",
       "      <td>2008</td>\n",
       "      <td>2008</td>\n",
       "      <td>2008</td>\n",
       "    </tr>\n",
       "    <tr>\n",
       "      <th>datesMonth</th>\n",
       "      <td>1</td>\n",
       "      <td>1</td>\n",
       "      <td>12</td>\n",
       "      <td>12</td>\n",
       "      <td>12</td>\n",
       "    </tr>\n",
       "    <tr>\n",
       "      <th>datesWeek</th>\n",
       "      <td>1</td>\n",
       "      <td>1</td>\n",
       "      <td>1</td>\n",
       "      <td>1</td>\n",
       "      <td>1</td>\n",
       "    </tr>\n",
       "    <tr>\n",
       "      <th>datesDay</th>\n",
       "      <td>3</td>\n",
       "      <td>2</td>\n",
       "      <td>31</td>\n",
       "      <td>31</td>\n",
       "      <td>31</td>\n",
       "    </tr>\n",
       "    <tr>\n",
       "      <th>datesDayofweek</th>\n",
       "      <td>3</td>\n",
       "      <td>2</td>\n",
       "      <td>2</td>\n",
       "      <td>2</td>\n",
       "      <td>2</td>\n",
       "    </tr>\n",
       "    <tr>\n",
       "      <th>datesDayofyear</th>\n",
       "      <td>3</td>\n",
       "      <td>2</td>\n",
       "      <td>366</td>\n",
       "      <td>366</td>\n",
       "      <td>366</td>\n",
       "    </tr>\n",
       "  </tbody>\n",
       "</table>\n",
       "</div>"
      ],
      "text/plain": [
       "                                            0                 1  \\\n",
       "ชื่อโรงพยาบาลที่รับผู้บาดเจ็บ         กรุงเทพ  กรุงเทพคริสเตียน   \n",
       "เพศ                                      หญิง              หญิง   \n",
       "ถนนที่เกิดเหตุ                        ในเมือง           ในเมือง   \n",
       "สถานะ                               ผู้ชับขี่         ผู้ชับขี่   \n",
       "รถผู้บาดเจ็บ                   รถเก๋ง/แท็กซี่       จักรยานยนต์   \n",
       "มาตรการ                               เข็มขัด           ใส่หมวก   \n",
       "การดื่มสุรา                           ไม่ดื่ม           ไม่ดื่ม   \n",
       "Refer-Admit                               ไม่             admit   \n",
       "จำนวนวันรักษา                               0                 0   \n",
       "ประเภทหน่วยงาน                          เอกชน             เอกชน   \n",
       "จำนวนเตียงจริง_2559                       403               198   \n",
       "result                                      1                 1   \n",
       "is_year_end                                 0                 0   \n",
       "is_new_year                                 0                 0   \n",
       "BLS                                         0                 0   \n",
       "ALS                                         0                 0   \n",
       "ILS                                         0                 0   \n",
       "vehicle                                  Self            Medium   \n",
       "age                              early senior             youth   \n",
       "region                                Central           Central   \n",
       "datesYear                                2008              2008   \n",
       "datesMonth                                  1                 1   \n",
       "datesWeek                                   1                 1   \n",
       "datesDay                                    3                 2   \n",
       "datesDayofweek                              3                 2   \n",
       "datesDayofyear                              3                 2   \n",
       "\n",
       "                                              2                 3  \\\n",
       "ชื่อโรงพยาบาลที่รับผู้บาดเจ็บ  กรุงเทพคริสเตียน  กรุงเทพคริสเตียน   \n",
       "เพศ                                        หญิง              หญิง   \n",
       "ถนนที่เกิดเหตุ                          ในเมือง           ในเมือง   \n",
       "สถานะ                                 ผู้โดยสาร         ผู้โดยสาร   \n",
       "รถผู้บาดเจ็บ                        จักรยานยนต์       จักรยานยนต์   \n",
       "มาตรการ                                  ไม่ใส่           ใส่หมวก   \n",
       "การดื่มสุรา                             ไม่ดื่ม           ไม่ดื่ม   \n",
       "Refer-Admit                                 ไม่               ไม่   \n",
       "จำนวนวันรักษา                                 0                 0   \n",
       "ประเภทหน่วยงาน                            เอกชน             เอกชน   \n",
       "จำนวนเตียงจริง_2559                         198               198   \n",
       "result                                        1                 1   \n",
       "is_year_end                                   1                 1   \n",
       "is_new_year                                   0                 0   \n",
       "BLS                                           0                 0   \n",
       "ALS                                           0                 0   \n",
       "ILS                                           0                 0   \n",
       "vehicle                                  Medium            Medium   \n",
       "age                                     Unknown           Unknown   \n",
       "region                                  Central           Central   \n",
       "datesYear                                  2008              2008   \n",
       "datesMonth                                   12                12   \n",
       "datesWeek                                     1                 1   \n",
       "datesDay                                     31                31   \n",
       "datesDayofweek                                2                 2   \n",
       "datesDayofyear                              366               366   \n",
       "\n",
       "                                              4  \n",
       "ชื่อโรงพยาบาลที่รับผู้บาดเจ็บ  กรุงเทพคริสเตียน  \n",
       "เพศ                                         ชาย  \n",
       "ถนนที่เกิดเหตุ                          ในเมือง  \n",
       "สถานะ                                 ผู้ชับขี่  \n",
       "รถผู้บาดเจ็บ                        จักรยานยนต์  \n",
       "มาตรการ                                 ใส่หมวก  \n",
       "การดื่มสุรา                                ดื่ม  \n",
       "Refer-Admit                                 ไม่  \n",
       "จำนวนวันรักษา                                 0  \n",
       "ประเภทหน่วยงาน                            เอกชน  \n",
       "จำนวนเตียงจริง_2559                         198  \n",
       "result                                        1  \n",
       "is_year_end                                   1  \n",
       "is_new_year                                   0  \n",
       "BLS                                           0  \n",
       "ALS                                           0  \n",
       "ILS                                           0  \n",
       "vehicle                                  Medium  \n",
       "age                                     Unknown  \n",
       "region                                  Central  \n",
       "datesYear                                  2008  \n",
       "datesMonth                                   12  \n",
       "datesWeek                                     1  \n",
       "datesDay                                     31  \n",
       "datesDayofweek                                2  \n",
       "datesDayofyear                              366  "
      ]
     },
     "execution_count": 42,
     "metadata": {},
     "output_type": "execute_result"
    }
   ],
   "source": [
    "df_raw.head().T"
   ]
  },
  {
   "cell_type": "markdown",
   "metadata": {},
   "source": [
    "Save/Load data as feather"
   ]
  },
  {
   "cell_type": "code",
   "execution_count": 45,
   "metadata": {},
   "outputs": [],
   "source": [
    "df_raw.to_feather(f'{PATH}df')"
   ]
  },
  {
   "cell_type": "code",
   "execution_count": 4,
   "metadata": {},
   "outputs": [],
   "source": [
    "df_raw = pd.read_feather(f'{PATH}df')"
   ]
  },
  {
   "cell_type": "markdown",
   "metadata": {},
   "source": [
    "Split into Train set and Validation set, using the last year data (2015) as a validation set"
   ]
  },
  {
   "cell_type": "code",
   "execution_count": 47,
   "metadata": {},
   "outputs": [
    {
     "data": {
      "text/plain": [
       "((191830, 26), (191830,), (24117, 26))"
      ]
     },
     "execution_count": 47,
     "metadata": {},
     "output_type": "execute_result"
    }
   ],
   "source": [
    "def split_vals(a,n): return a[:n].copy(), a[n:].copy()\n",
    "\n",
    "n_valid = 24117  # Latest year (2015)\n",
    "n_trn = len(df)-n_valid\n",
    "raw_train, raw_valid = split_vals(df_raw, n_trn)\n",
    "X_train, X_valid = split_vals(df, n_trn)\n",
    "y_train, y_valid = split_vals(y, n_trn)\n",
    "\n",
    "X_train.shape, y_train.shape, X_valid.shape"
   ]
  },
  {
   "cell_type": "markdown",
   "metadata": {},
   "source": [
    "Fit in RandomForestClassifier, of course we would get a good score here , because the dead rate is only 1.2% of the data. Everyone can predict this data by telling that everybody survive, the error rate will be around 1-2%\n",
    "\n",
    "What we interest in this dataset is its features or risk factors that may can caused deadly accident."
   ]
  },
  {
   "cell_type": "code",
   "execution_count": 48,
   "metadata": {},
   "outputs": [
    {
     "data": {
      "text/plain": [
       "0.98424347970311399"
      ]
     },
     "execution_count": 48,
     "metadata": {},
     "output_type": "execute_result"
    }
   ],
   "source": [
    "m = RandomForestClassifier(n_estimators=40, min_samples_leaf=3, max_features=0.5, n_jobs=-1, class_weight=\"balanced\", oob_score=True)\n",
    "m.fit(X_train, y_train)\n",
    "m.score(X_valid,y_valid)"
   ]
  },
  {
   "cell_type": "code",
   "execution_count": 13,
   "metadata": {},
   "outputs": [],
   "source": [
    "def print_score(m):\n",
    "    res = [m.predict(X_train), m.predict(X_valid),\n",
    "                m.score(X_train, y_train), m.score(X_valid, y_valid)]\n",
    "    if hasattr(m, 'oob_score_'): res.append(m.oob_score_)\n",
    "    print(res)"
   ]
  },
  {
   "cell_type": "code",
   "execution_count": 50,
   "metadata": {},
   "outputs": [
    {
     "name": "stdout",
     "output_type": "stream",
     "text": [
      "[array([1, 1, 1, ..., 1, 1, 1]), array([1, 1, 1, ..., 1, 1, 1]), 0.99768545065943803, 0.98424347970311399, 0.98276077777198556]\n"
     ]
    }
   ],
   "source": [
    "print_score(m)"
   ]
  },
  {
   "cell_type": "code",
   "execution_count": 51,
   "metadata": {},
   "outputs": [
    {
     "data": {
      "text/plain": [
       "(array([ 1.,  1.,  1.,  1.,  1.,  1.,  1.,  1.,  1.,  1.,  1.,  1.,  1.,  1.,  1.,  1.,  1.,  1.,  1.,  1.,\n",
       "         1.,  1.,  1.,  1.,  1.,  1.,  1.,  1.,  1.,  1.,  1.,  1.,  1.,  1.,  1.,  1.,  1.,  1.,  1.,  1.]),\n",
       " 1.0,\n",
       " 1)"
      ]
     },
     "execution_count": 51,
     "metadata": {},
     "output_type": "execute_result"
    }
   ],
   "source": [
    "preds = np.stack([t.predict(X_valid) for t in m.estimators_])\n",
    "preds[:,0], np.mean(preds[:,0]), y_valid[0]"
   ]
  },
  {
   "cell_type": "code",
   "execution_count": 52,
   "metadata": {},
   "outputs": [
    {
     "data": {
      "text/plain": [
       "(40, 24117)"
      ]
     },
     "execution_count": 52,
     "metadata": {},
     "output_type": "execute_result"
    }
   ],
   "source": [
    "preds.shape"
   ]
  },
  {
   "cell_type": "code",
   "execution_count": 53,
   "metadata": {
    "scrolled": true
   },
   "outputs": [
    {
     "data": {
      "image/png": "[encoded data removed]",
      "text/plain": [
       "<matplotlib.figure.Figure at 0x1c1ca7a7f0>"
      ]
     },
     "metadata": {},
     "output_type": "display_data"
    }
   ],
   "source": [
    "plt.plot([metrics.r2_score(y_valid, np.mean(preds[:i+1], axis=0)) for i in range(10)]);"
   ]
  },
  {
   "cell_type": "markdown",
   "metadata": {},
   "source": [
    "We use only 50,000 example to save computing time, and increase trees to 80. The OOB score is not improved."
   ]
  },
  {
   "cell_type": "code",
   "execution_count": 54,
   "metadata": {},
   "outputs": [],
   "source": [
    "set_rf_samples(50000)"
   ]
  },
  {
   "cell_type": "code",
   "execution_count": 55,
   "metadata": {},
   "outputs": [
    {
     "name": "stdout",
     "output_type": "stream",
     "text": [
      "[array([1, 1, 1, ..., 1, 1, 1]), array([1, 1, 1, ..., 1, 1, 1]), 0.98622217588489813, 0.98494837666376411, 0.98390762654433617]\n"
     ]
    }
   ],
   "source": [
    "m = RandomForestClassifier(n_estimators=80, min_samples_leaf=3, max_features=0.3, n_jobs=-1, oob_score=True, class_weight='balanced')\n",
    "m.fit(X_train, y_train)\n",
    "print_score(m)"
   ]
  },
  {
   "cell_type": "code",
   "execution_count": null,
   "metadata": {},
   "outputs": [],
   "source": []
  },
  {
   "cell_type": "code",
   "execution_count": 56,
   "metadata": {},
   "outputs": [
    {
     "name": "stdout",
     "output_type": "stream",
     "text": [
      "CPU times: user 403 ms, sys: 95.2 ms, total: 498 ms\n",
      "Wall time: 503 ms\n"
     ]
    },
    {
     "data": {
      "text/plain": [
       "(0.98750000000000004, 0.11110243021644485)"
      ]
     },
     "execution_count": 56,
     "metadata": {},
     "output_type": "execute_result"
    }
   ],
   "source": [
    "#using STD instead of Mean\n",
    "%time preds = np.stack([t.predict(X_valid) for t in m.estimators_])\n",
    "np.mean(preds[:,0]), np.std(preds[:,0])"
   ]
  },
  {
   "cell_type": "code",
   "execution_count": 57,
   "metadata": {},
   "outputs": [],
   "source": [
    "from pandas_summary import DataFrameSummary"
   ]
  },
  {
   "cell_type": "code",
   "execution_count": 58,
   "metadata": {},
   "outputs": [
    {
     "data": {
      "image/png": "[encoded data removed]",
      "text/plain": [
       "<matplotlib.figure.Figure at 0x1c1c8dcba8>"
      ]
     },
     "metadata": {},
     "output_type": "display_data"
    }
   ],
   "source": [
    "x = raw_valid.copy()\n",
    "x['pred_std'] = np.std(preds, axis=0)\n",
    "x['pred'] = np.mean(preds, axis=0)\n",
    "x.รถผู้บาดเจ็บ.value_counts().plot.barh();"
   ]
  },
  {
   "cell_type": "code",
   "execution_count": 59,
   "metadata": {},
   "outputs": [
    {
     "data": {
      "text/html": [
       "<div>\n",
       "<style scoped>\n",
       "    .dataframe tbody tr th:only-of-type {\n",
       "        vertical-align: middle;\n",
       "    }\n",
       "\n",
       "    .dataframe tbody tr th {\n",
       "        vertical-align: top;\n",
       "    }\n",
       "\n",
       "    .dataframe thead th {\n",
       "        text-align: right;\n",
       "    }\n",
       "</style>\n",
       "<table border=\"1\" class=\"dataframe\">\n",
       "  <thead>\n",
       "    <tr style=\"text-align: right;\">\n",
       "      <th></th>\n",
       "      <th>รถผู้บาดเจ็บ</th>\n",
       "      <th>result</th>\n",
       "      <th>pred</th>\n",
       "      <th>pred_std</th>\n",
       "    </tr>\n",
       "  </thead>\n",
       "  <tbody>\n",
       "    <tr>\n",
       "      <th>0</th>\n",
       "      <td>จักรยานยนต์</td>\n",
       "      <td>0.988459</td>\n",
       "      <td>0.967690</td>\n",
       "      <td>0.122173</td>\n",
       "    </tr>\n",
       "    <tr>\n",
       "      <th>1</th>\n",
       "      <td>ปิคอัพ</td>\n",
       "      <td>0.963323</td>\n",
       "      <td>0.940204</td>\n",
       "      <td>0.199926</td>\n",
       "    </tr>\n",
       "    <tr>\n",
       "      <th>2</th>\n",
       "      <td>รถจักรยาน</td>\n",
       "      <td>0.988553</td>\n",
       "      <td>0.966312</td>\n",
       "      <td>0.137636</td>\n",
       "    </tr>\n",
       "    <tr>\n",
       "      <th>3</th>\n",
       "      <td>รถตู้</td>\n",
       "      <td>0.990099</td>\n",
       "      <td>0.938243</td>\n",
       "      <td>0.198601</td>\n",
       "    </tr>\n",
       "    <tr>\n",
       "      <th>4</th>\n",
       "      <td>รถบรรทุก</td>\n",
       "      <td>0.986301</td>\n",
       "      <td>0.954452</td>\n",
       "      <td>0.166651</td>\n",
       "    </tr>\n",
       "    <tr>\n",
       "      <th>5</th>\n",
       "      <td>รถเก๋ง/แท็กซี่</td>\n",
       "      <td>0.966080</td>\n",
       "      <td>0.951460</td>\n",
       "      <td>0.177710</td>\n",
       "    </tr>\n",
       "    <tr>\n",
       "      <th>6</th>\n",
       "      <td>รถโดยสาร 4 ล้อ</td>\n",
       "      <td>0.980769</td>\n",
       "      <td>0.956250</td>\n",
       "      <td>0.180924</td>\n",
       "    </tr>\n",
       "    <tr>\n",
       "      <th>7</th>\n",
       "      <td>รถโดยสารใหญ่</td>\n",
       "      <td>0.987342</td>\n",
       "      <td>0.960285</td>\n",
       "      <td>0.189660</td>\n",
       "    </tr>\n",
       "    <tr>\n",
       "      <th>8</th>\n",
       "      <td>สามล้อถีบ</td>\n",
       "      <td>0.950000</td>\n",
       "      <td>0.927500</td>\n",
       "      <td>0.166733</td>\n",
       "    </tr>\n",
       "    <tr>\n",
       "      <th>9</th>\n",
       "      <td>สามล้อเครื่อง</td>\n",
       "      <td>0.969565</td>\n",
       "      <td>0.957500</td>\n",
       "      <td>0.165044</td>\n",
       "    </tr>\n",
       "    <tr>\n",
       "      <th>10</th>\n",
       "      <td>อื่นๆ</td>\n",
       "      <td>0.964103</td>\n",
       "      <td>0.931218</td>\n",
       "      <td>0.186357</td>\n",
       "    </tr>\n",
       "    <tr>\n",
       "      <th>11</th>\n",
       "      <td>ไม่ทราบ</td>\n",
       "      <td>0.957627</td>\n",
       "      <td>0.933792</td>\n",
       "      <td>0.209739</td>\n",
       "    </tr>\n",
       "    <tr>\n",
       "      <th>12</th>\n",
       "      <td>ไม่มี/ล้มเอง</td>\n",
       "      <td>0.951442</td>\n",
       "      <td>0.919651</td>\n",
       "      <td>0.202967</td>\n",
       "    </tr>\n",
       "  </tbody>\n",
       "</table>\n",
       "</div>"
      ],
      "text/plain": [
       "      รถผู้บาดเจ็บ    result      pred  pred_std\n",
       "0      จักรยานยนต์  0.988459  0.967690  0.122173\n",
       "1           ปิคอัพ  0.963323  0.940204  0.199926\n",
       "2        รถจักรยาน  0.988553  0.966312  0.137636\n",
       "3            รถตู้  0.990099  0.938243  0.198601\n",
       "4         รถบรรทุก  0.986301  0.954452  0.166651\n",
       "5   รถเก๋ง/แท็กซี่  0.966080  0.951460  0.177710\n",
       "6   รถโดยสาร 4 ล้อ  0.980769  0.956250  0.180924\n",
       "7     รถโดยสารใหญ่  0.987342  0.960285  0.189660\n",
       "8        สามล้อถีบ  0.950000  0.927500  0.166733\n",
       "9    สามล้อเครื่อง  0.969565  0.957500  0.165044\n",
       "10           อื่นๆ  0.964103  0.931218  0.186357\n",
       "11         ไม่ทราบ  0.957627  0.933792  0.209739\n",
       "12    ไม่มี/ล้มเอง  0.951442  0.919651  0.202967"
      ]
     },
     "execution_count": 59,
     "metadata": {},
     "output_type": "execute_result"
    }
   ],
   "source": [
    "flds = ['รถผู้บาดเจ็บ', 'result', 'pred', 'pred_std']\n",
    "enc_summ = x[flds].groupby('รถผู้บาดเจ็บ', as_index=False).mean()\n",
    "enc_summ"
   ]
  },
  {
   "cell_type": "code",
   "execution_count": 60,
   "metadata": {},
   "outputs": [
    {
     "data": {
      "image/png": "[encoded data removed]",
      "text/plain": [
       "<matplotlib.figure.Figure at 0x1c1c86a278>"
      ]
     },
     "metadata": {},
     "output_type": "display_data"
    }
   ],
   "source": [
    "enc_summ = enc_summ[~pd.isnull(enc_summ.result)]\n",
    "enc_summ.plot('รถผู้บาดเจ็บ', 'result', 'barh', xlim=(0,11));"
   ]
  },
  {
   "cell_type": "markdown",
   "metadata": {},
   "source": [
    "This section is about Feature importance, which what we would like to extract from this dataset.\n",
    "The rf_feat_importance came from Fastai library"
   ]
  },
  {
   "cell_type": "code",
   "execution_count": 62,
   "metadata": {},
   "outputs": [],
   "source": [
    "#Feature importance"
   ]
  },
  {
   "cell_type": "code",
   "execution_count": 63,
   "metadata": {},
   "outputs": [
    {
     "data": {
      "text/html": [
       "<div>\n",
       "<style scoped>\n",
       "    .dataframe tbody tr th:only-of-type {\n",
       "        vertical-align: middle;\n",
       "    }\n",
       "\n",
       "    .dataframe tbody tr th {\n",
       "        vertical-align: top;\n",
       "    }\n",
       "\n",
       "    .dataframe thead th {\n",
       "        text-align: right;\n",
       "    }\n",
       "</style>\n",
       "<table border=\"1\" class=\"dataframe\">\n",
       "  <thead>\n",
       "    <tr style=\"text-align: right;\">\n",
       "      <th></th>\n",
       "      <th>cols</th>\n",
       "      <th>imp</th>\n",
       "    </tr>\n",
       "  </thead>\n",
       "  <tbody>\n",
       "    <tr>\n",
       "      <th>6</th>\n",
       "      <td>การดื่มสุรา</td>\n",
       "      <td>0.184260</td>\n",
       "    </tr>\n",
       "    <tr>\n",
       "      <th>0</th>\n",
       "      <td>ชื่อโรงพยาบาลที่รับผู้บาดเจ็บ</td>\n",
       "      <td>0.102054</td>\n",
       "    </tr>\n",
       "    <tr>\n",
       "      <th>16</th>\n",
       "      <td>vehicle</td>\n",
       "      <td>0.087744</td>\n",
       "    </tr>\n",
       "    <tr>\n",
       "      <th>10</th>\n",
       "      <td>จำนวนเตียงจริง_2559</td>\n",
       "      <td>0.081378</td>\n",
       "    </tr>\n",
       "    <tr>\n",
       "      <th>17</th>\n",
       "      <td>age</td>\n",
       "      <td>0.046188</td>\n",
       "    </tr>\n",
       "    <tr>\n",
       "      <th>14</th>\n",
       "      <td>ALS</td>\n",
       "      <td>0.045764</td>\n",
       "    </tr>\n",
       "    <tr>\n",
       "      <th>19</th>\n",
       "      <td>datesYear</td>\n",
       "      <td>0.044211</td>\n",
       "    </tr>\n",
       "    <tr>\n",
       "      <th>4</th>\n",
       "      <td>รถผู้บาดเจ็บ</td>\n",
       "      <td>0.041032</td>\n",
       "    </tr>\n",
       "    <tr>\n",
       "      <th>18</th>\n",
       "      <td>region</td>\n",
       "      <td>0.040577</td>\n",
       "    </tr>\n",
       "    <tr>\n",
       "      <th>23</th>\n",
       "      <td>datesDayofweek</td>\n",
       "      <td>0.040170</td>\n",
       "    </tr>\n",
       "  </tbody>\n",
       "</table>\n",
       "</div>"
      ],
      "text/plain": [
       "                             cols       imp\n",
       "6                     การดื่มสุรา  0.184260\n",
       "0   ชื่อโรงพยาบาลที่รับผู้บาดเจ็บ  0.102054\n",
       "16                        vehicle  0.087744\n",
       "10            จำนวนเตียงจริง_2559  0.081378\n",
       "17                            age  0.046188\n",
       "14                            ALS  0.045764\n",
       "19                      datesYear  0.044211\n",
       "4                    รถผู้บาดเจ็บ  0.041032\n",
       "18                         region  0.040577\n",
       "23                 datesDayofweek  0.040170"
      ]
     },
     "execution_count": 63,
     "metadata": {},
     "output_type": "execute_result"
    }
   ],
   "source": [
    "fi = rf_feat_importance(m, df); fi[:10]"
   ]
  },
  {
   "cell_type": "code",
   "execution_count": 64,
   "metadata": {},
   "outputs": [
    {
     "data": {
      "image/png": "[encoded data removed]",
      "text/plain": [
       "<matplotlib.figure.Figure at 0x1c1c7dfd30>"
      ]
     },
     "metadata": {},
     "output_type": "display_data"
    }
   ],
   "source": [
    "fi.plot('cols', 'imp', figsize=(10,6), legend=False);"
   ]
  },
  {
   "cell_type": "code",
   "execution_count": 39,
   "metadata": {},
   "outputs": [],
   "source": [
    "def plot_fi(fi): return fi.plot('cols', 'imp', 'barh', figsize=(12,7), legend=False)"
   ]
  },
  {
   "cell_type": "code",
   "execution_count": 66,
   "metadata": {
    "scrolled": true
   },
   "outputs": [
    {
     "data": {
      "image/png": "[encoded data removed]",
      "text/plain": [
       "<matplotlib.figure.Figure at 0x1c1c348898>"
      ]
     },
     "metadata": {},
     "output_type": "display_data"
    }
   ],
   "source": [
    "plot_fi(fi[:30]);"
   ]
  },
  {
   "cell_type": "markdown",
   "metadata": {},
   "source": [
    "What we see here is การดื่มสุรา is the most important feature, as expected. \n",
    "But is it really true? We will see...\n",
    "\n",
    "Next we remove unimportant features, keep only ones with imp >0.005"
   ]
  },
  {
   "cell_type": "code",
   "execution_count": 67,
   "metadata": {},
   "outputs": [
    {
     "data": {
      "text/plain": [
       "23"
      ]
     },
     "execution_count": 67,
     "metadata": {},
     "output_type": "execute_result"
    }
   ],
   "source": [
    "to_keep = fi[fi.imp>0.005].cols; len(to_keep)"
   ]
  },
  {
   "cell_type": "code",
   "execution_count": 68,
   "metadata": {},
   "outputs": [],
   "source": [
    "df_keep = df[to_keep].copy()\n",
    "X_train, X_valid = split_vals(df_keep, n_trn)"
   ]
  },
  {
   "cell_type": "code",
   "execution_count": 69,
   "metadata": {},
   "outputs": [
    {
     "name": "stdout",
     "output_type": "stream",
     "text": [
      "[array([1, 1, 1, ..., 1, 1, 1]), array([1, 1, 1, ..., 1, 1, 1]), 0.98615440754835015, 0.98474105402827883, 0.9837408121774488]\n"
     ]
    }
   ],
   "source": [
    "m = RandomForestClassifier(n_estimators=40, min_samples_leaf=3, max_features=0.5,\n",
    "                          n_jobs=-1, oob_score=True, class_weight='balanced')\n",
    "m.fit(X_train, y_train)\n",
    "print_score(m)"
   ]
  },
  {
   "cell_type": "markdown",
   "metadata": {},
   "source": [
    "Look like the scores improved a bit after we removed redundant features. Also the ranking now is different from before."
   ]
  },
  {
   "cell_type": "code",
   "execution_count": 71,
   "metadata": {
    "scrolled": true
   },
   "outputs": [
    {
     "data": {
      "image/png": "[encoded data removed]",
      "text/plain": [
       "<matplotlib.figure.Figure at 0x1c1c186550>"
      ]
     },
     "metadata": {},
     "output_type": "display_data"
    }
   ],
   "source": [
    "fi = rf_feat_importance(m, df_keep)\n",
    "plot_fi(fi);"
   ]
  },
  {
   "cell_type": "markdown",
   "metadata": {},
   "source": [
    "Here we use OneHotEncoding, then plot the feature importance again. \n",
    "You see here that the most important one is actually \n",
    "unknown Alc. drinking."
   ]
  },
  {
   "cell_type": "code",
   "execution_count": 120,
   "metadata": {
    "scrolled": true
   },
   "outputs": [
    {
     "name": "stdout",
     "output_type": "stream",
     "text": [
      "[array([1, 1, 1, ..., 1, 1, 1]), array([1, 1, 1, ..., 1, 1, 1]), 0.9850961789084085, 0.98449226686569635, 0.98336547985195222]\n"
     ]
    }
   ],
   "source": [
    "#One Hot Encoding\n",
    "df_trn2, y_trn, nas = proc_df(df_raw, 'result', max_n_cat=7)\n",
    "X_train, X_valid = split_vals(df_trn2, n_trn)\n",
    "\n",
    "m = RandomForestClassifier(n_estimators=40,class_weight=\"balanced\", min_samples_leaf=3, max_features=0.6, n_jobs=-1, oob_score=True)\n",
    "m.fit(X_train, y_train)\n",
    "print_score(m)"
   ]
  },
  {
   "cell_type": "code",
   "execution_count": 121,
   "metadata": {
    "scrolled": false
   },
   "outputs": [
    {
     "data": {
      "image/png": "[encoded data removed]",
      "text/plain": [
       "<matplotlib.figure.Figure at 0x1c1b40b240>"
      ]
     },
     "metadata": {},
     "output_type": "display_data"
    }
   ],
   "source": [
    "fi = rf_feat_importance(m, df_trn2)\n",
    "plot_fi(fi[:25]);"
   ]
  },
  {
   "cell_type": "code",
   "execution_count": 73,
   "metadata": {},
   "outputs": [],
   "source": [
    "#Fill data of unknown drink"
   ]
  },
  {
   "cell_type": "code",
   "execution_count": 74,
   "metadata": {
    "scrolled": true
   },
   "outputs": [
    {
     "data": {
      "text/html": [
       "<div>\n",
       "<style scoped>\n",
       "    .dataframe tbody tr th:only-of-type {\n",
       "        vertical-align: middle;\n",
       "    }\n",
       "\n",
       "    .dataframe tbody tr th {\n",
       "        vertical-align: top;\n",
       "    }\n",
       "\n",
       "    .dataframe thead th {\n",
       "        text-align: right;\n",
       "    }\n",
       "</style>\n",
       "<table border=\"1\" class=\"dataframe\">\n",
       "  <thead>\n",
       "    <tr style=\"text-align: right;\">\n",
       "      <th></th>\n",
       "      <th>การดื่มสุรา</th>\n",
       "      <th>เพศ</th>\n",
       "    </tr>\n",
       "  </thead>\n",
       "  <tbody>\n",
       "    <tr>\n",
       "      <th>count</th>\n",
       "      <td>13278</td>\n",
       "      <td>13278</td>\n",
       "    </tr>\n",
       "    <tr>\n",
       "      <th>unique</th>\n",
       "      <td>1</td>\n",
       "      <td>2</td>\n",
       "    </tr>\n",
       "    <tr>\n",
       "      <th>top</th>\n",
       "      <td>ไม่ทราบ</td>\n",
       "      <td>ชาย</td>\n",
       "    </tr>\n",
       "    <tr>\n",
       "      <th>freq</th>\n",
       "      <td>13278</td>\n",
       "      <td>9351</td>\n",
       "    </tr>\n",
       "  </tbody>\n",
       "</table>\n",
       "</div>"
      ],
      "text/plain": [
       "       การดื่มสุรา    เพศ\n",
       "count        13278  13278\n",
       "unique           1      2\n",
       "top        ไม่ทราบ    ชาย\n",
       "freq         13278   9351"
      ]
     },
     "execution_count": 74,
     "metadata": {},
     "output_type": "execute_result"
    }
   ],
   "source": [
    "df_raw.loc[df_raw['การดื่มสุรา']==\"ไม่ทราบ\",['การดื่มสุรา','เพศ']].describe()"
   ]
  },
  {
   "cell_type": "code",
   "execution_count": 75,
   "metadata": {
    "scrolled": true
   },
   "outputs": [
    {
     "data": {
      "text/html": [
       "<div>\n",
       "<style scoped>\n",
       "    .dataframe tbody tr th:only-of-type {\n",
       "        vertical-align: middle;\n",
       "    }\n",
       "\n",
       "    .dataframe tbody tr th {\n",
       "        vertical-align: top;\n",
       "    }\n",
       "\n",
       "    .dataframe thead th {\n",
       "        text-align: right;\n",
       "    }\n",
       "</style>\n",
       "<table border=\"1\" class=\"dataframe\">\n",
       "  <thead>\n",
       "    <tr style=\"text-align: right;\">\n",
       "      <th></th>\n",
       "      <th>การดื่มสุรา</th>\n",
       "      <th>เพศ</th>\n",
       "    </tr>\n",
       "  </thead>\n",
       "  <tbody>\n",
       "    <tr>\n",
       "      <th>count</th>\n",
       "      <td>75857</td>\n",
       "      <td>75857</td>\n",
       "    </tr>\n",
       "    <tr>\n",
       "      <th>unique</th>\n",
       "      <td>1</td>\n",
       "      <td>2</td>\n",
       "    </tr>\n",
       "    <tr>\n",
       "      <th>top</th>\n",
       "      <td>ดื่ม</td>\n",
       "      <td>ชาย</td>\n",
       "    </tr>\n",
       "    <tr>\n",
       "      <th>freq</th>\n",
       "      <td>75857</td>\n",
       "      <td>69312</td>\n",
       "    </tr>\n",
       "  </tbody>\n",
       "</table>\n",
       "</div>"
      ],
      "text/plain": [
       "       การดื่มสุรา    เพศ\n",
       "count        75857  75857\n",
       "unique           1      2\n",
       "top           ดื่ม    ชาย\n",
       "freq         75857  69312"
      ]
     },
     "execution_count": 75,
     "metadata": {},
     "output_type": "execute_result"
    }
   ],
   "source": [
    "df_raw.loc[df_raw['การดื่มสุรา']==\"ดื่ม\",['การดื่มสุรา','เพศ']].describe()"
   ]
  },
  {
   "cell_type": "code",
   "execution_count": 76,
   "metadata": {},
   "outputs": [
    {
     "data": {
      "text/html": [
       "<div>\n",
       "<style scoped>\n",
       "    .dataframe tbody tr th:only-of-type {\n",
       "        vertical-align: middle;\n",
       "    }\n",
       "\n",
       "    .dataframe tbody tr th {\n",
       "        vertical-align: top;\n",
       "    }\n",
       "\n",
       "    .dataframe thead th {\n",
       "        text-align: right;\n",
       "    }\n",
       "</style>\n",
       "<table border=\"1\" class=\"dataframe\">\n",
       "  <thead>\n",
       "    <tr style=\"text-align: right;\">\n",
       "      <th></th>\n",
       "      <th>การดื่มสุรา</th>\n",
       "      <th>เพศ</th>\n",
       "    </tr>\n",
       "  </thead>\n",
       "  <tbody>\n",
       "    <tr>\n",
       "      <th>count</th>\n",
       "      <td>126812</td>\n",
       "      <td>126812</td>\n",
       "    </tr>\n",
       "    <tr>\n",
       "      <th>unique</th>\n",
       "      <td>1</td>\n",
       "      <td>2</td>\n",
       "    </tr>\n",
       "    <tr>\n",
       "      <th>top</th>\n",
       "      <td>ไม่ดื่ม</td>\n",
       "      <td>ชาย</td>\n",
       "    </tr>\n",
       "    <tr>\n",
       "      <th>freq</th>\n",
       "      <td>126812</td>\n",
       "      <td>67187</td>\n",
       "    </tr>\n",
       "  </tbody>\n",
       "</table>\n",
       "</div>"
      ],
      "text/plain": [
       "       การดื่มสุรา     เพศ\n",
       "count       126812  126812\n",
       "unique           1       2\n",
       "top        ไม่ดื่ม     ชาย\n",
       "freq        126812   67187"
      ]
     },
     "execution_count": 76,
     "metadata": {},
     "output_type": "execute_result"
    }
   ],
   "source": [
    "df_raw.loc[df_raw['การดื่มสุรา']==\"ไม่ดื่ม\",['การดื่มสุรา','เพศ']].describe()"
   ]
  },
  {
   "cell_type": "code",
   "execution_count": 77,
   "metadata": {},
   "outputs": [
    {
     "name": "stdout",
     "output_type": "stream",
     "text": [
      "Male drink :0.5077839398090829\n",
      "Female drink :0.09743933303558136\n"
     ]
    }
   ],
   "source": [
    "total_known_drink = 126812+75857\n",
    "total_male_known_hx_drink = 69312+67187\n",
    "total_female_known_hx_drink = (75857-68312) + (126812-67187)\n",
    "total_male_who_drink = 69312 / total_male_known_hx_drink\n",
    "total_female_who_drink = (75857-69312) / total_female_known_hx_drink\n",
    "print(\"Male drink :\" f\"{total_male_who_drink}\" )\n",
    "print(\"Female drink :\" f\"{total_female_who_drink}\" )"
   ]
  },
  {
   "cell_type": "markdown",
   "metadata": {},
   "source": [
    "We estimate percentage of drinkers in men and women, and use the data to fill in the missing value."
   ]
  },
  {
   "cell_type": "code",
   "execution_count": 78,
   "metadata": {},
   "outputs": [],
   "source": [
    "idxm = df_raw.index[(df_raw['การดื่มสุรา']==\"ไม่ทราบ\") & (df_raw['เพศ']==\"ชาย\")].tolist()\n",
    "idxf = df_raw.index[(df_raw['การดื่มสุรา']==\"ไม่ทราบ\") & (df_raw['เพศ']==\"หญิง\")].tolist()"
   ]
  },
  {
   "cell_type": "code",
   "execution_count": 79,
   "metadata": {},
   "outputs": [],
   "source": [
    "import random\n",
    "ran_m = random.sample(idxm,int(len(idxm)*0.5074))\n",
    "ran_f = random.sample(idxf,int(len(idxf)*0.0988))"
   ]
  },
  {
   "cell_type": "code",
   "execution_count": 80,
   "metadata": {},
   "outputs": [
    {
     "data": {
      "text/html": [
       "<div>\n",
       "<style scoped>\n",
       "    .dataframe tbody tr th:only-of-type {\n",
       "        vertical-align: middle;\n",
       "    }\n",
       "\n",
       "    .dataframe tbody tr th {\n",
       "        vertical-align: top;\n",
       "    }\n",
       "\n",
       "    .dataframe thead th {\n",
       "        text-align: right;\n",
       "    }\n",
       "</style>\n",
       "<table border=\"1\" class=\"dataframe\">\n",
       "  <thead>\n",
       "    <tr style=\"text-align: right;\">\n",
       "      <th></th>\n",
       "      <th>0</th>\n",
       "      <th>1</th>\n",
       "      <th>2</th>\n",
       "      <th>3</th>\n",
       "      <th>4</th>\n",
       "    </tr>\n",
       "  </thead>\n",
       "  <tbody>\n",
       "    <tr>\n",
       "      <th>ชื่อโรงพยาบาลที่รับผู้บาดเจ็บ</th>\n",
       "      <td>กรุงเทพ</td>\n",
       "      <td>กรุงเทพคริสเตียน</td>\n",
       "      <td>กรุงเทพคริสเตียน</td>\n",
       "      <td>กรุงเทพคริสเตียน</td>\n",
       "      <td>กรุงเทพคริสเตียน</td>\n",
       "    </tr>\n",
       "    <tr>\n",
       "      <th>เพศ</th>\n",
       "      <td>หญิง</td>\n",
       "      <td>หญิง</td>\n",
       "      <td>หญิง</td>\n",
       "      <td>หญิง</td>\n",
       "      <td>ชาย</td>\n",
       "    </tr>\n",
       "    <tr>\n",
       "      <th>ถนนที่เกิดเหตุ</th>\n",
       "      <td>ในเมือง</td>\n",
       "      <td>ในเมือง</td>\n",
       "      <td>ในเมือง</td>\n",
       "      <td>ในเมือง</td>\n",
       "      <td>ในเมือง</td>\n",
       "    </tr>\n",
       "    <tr>\n",
       "      <th>สถานะ</th>\n",
       "      <td>ผู้ชับขี่</td>\n",
       "      <td>ผู้ชับขี่</td>\n",
       "      <td>ผู้โดยสาร</td>\n",
       "      <td>ผู้โดยสาร</td>\n",
       "      <td>ผู้ชับขี่</td>\n",
       "    </tr>\n",
       "    <tr>\n",
       "      <th>รถผู้บาดเจ็บ</th>\n",
       "      <td>รถเก๋ง/แท็กซี่</td>\n",
       "      <td>จักรยานยนต์</td>\n",
       "      <td>จักรยานยนต์</td>\n",
       "      <td>จักรยานยนต์</td>\n",
       "      <td>จักรยานยนต์</td>\n",
       "    </tr>\n",
       "    <tr>\n",
       "      <th>มาตรการ</th>\n",
       "      <td>เข็มขัด</td>\n",
       "      <td>ใส่หมวก</td>\n",
       "      <td>ไม่ใส่</td>\n",
       "      <td>ใส่หมวก</td>\n",
       "      <td>ใส่หมวก</td>\n",
       "    </tr>\n",
       "    <tr>\n",
       "      <th>การดื่มสุรา</th>\n",
       "      <td>ไม่ดื่ม</td>\n",
       "      <td>ไม่ดื่ม</td>\n",
       "      <td>ไม่ดื่ม</td>\n",
       "      <td>ไม่ดื่ม</td>\n",
       "      <td>ดื่ม</td>\n",
       "    </tr>\n",
       "    <tr>\n",
       "      <th>Refer-Admit</th>\n",
       "      <td>ไม่</td>\n",
       "      <td>admit</td>\n",
       "      <td>ไม่</td>\n",
       "      <td>ไม่</td>\n",
       "      <td>ไม่</td>\n",
       "    </tr>\n",
       "    <tr>\n",
       "      <th>จำนวนวันรักษา</th>\n",
       "      <td>0</td>\n",
       "      <td>0</td>\n",
       "      <td>0</td>\n",
       "      <td>0</td>\n",
       "      <td>0</td>\n",
       "    </tr>\n",
       "    <tr>\n",
       "      <th>ประเภทหน่วยงาน</th>\n",
       "      <td>เอกชน</td>\n",
       "      <td>เอกชน</td>\n",
       "      <td>เอกชน</td>\n",
       "      <td>เอกชน</td>\n",
       "      <td>เอกชน</td>\n",
       "    </tr>\n",
       "    <tr>\n",
       "      <th>จำนวนเตียงจริง_2559</th>\n",
       "      <td>403</td>\n",
       "      <td>198</td>\n",
       "      <td>198</td>\n",
       "      <td>198</td>\n",
       "      <td>198</td>\n",
       "    </tr>\n",
       "    <tr>\n",
       "      <th>result</th>\n",
       "      <td>1</td>\n",
       "      <td>1</td>\n",
       "      <td>1</td>\n",
       "      <td>1</td>\n",
       "      <td>1</td>\n",
       "    </tr>\n",
       "    <tr>\n",
       "      <th>is_year_end</th>\n",
       "      <td>0</td>\n",
       "      <td>0</td>\n",
       "      <td>1</td>\n",
       "      <td>1</td>\n",
       "      <td>1</td>\n",
       "    </tr>\n",
       "    <tr>\n",
       "      <th>is_new_year</th>\n",
       "      <td>0</td>\n",
       "      <td>0</td>\n",
       "      <td>0</td>\n",
       "      <td>0</td>\n",
       "      <td>0</td>\n",
       "    </tr>\n",
       "    <tr>\n",
       "      <th>BLS</th>\n",
       "      <td>0</td>\n",
       "      <td>0</td>\n",
       "      <td>0</td>\n",
       "      <td>0</td>\n",
       "      <td>0</td>\n",
       "    </tr>\n",
       "    <tr>\n",
       "      <th>ALS</th>\n",
       "      <td>0</td>\n",
       "      <td>0</td>\n",
       "      <td>0</td>\n",
       "      <td>0</td>\n",
       "      <td>0</td>\n",
       "    </tr>\n",
       "    <tr>\n",
       "      <th>ILS</th>\n",
       "      <td>0</td>\n",
       "      <td>0</td>\n",
       "      <td>0</td>\n",
       "      <td>0</td>\n",
       "      <td>0</td>\n",
       "    </tr>\n",
       "    <tr>\n",
       "      <th>vehicle</th>\n",
       "      <td>Self</td>\n",
       "      <td>Medium</td>\n",
       "      <td>Medium</td>\n",
       "      <td>Medium</td>\n",
       "      <td>Medium</td>\n",
       "    </tr>\n",
       "    <tr>\n",
       "      <th>age</th>\n",
       "      <td>early senior</td>\n",
       "      <td>youth</td>\n",
       "      <td>Unknown</td>\n",
       "      <td>Unknown</td>\n",
       "      <td>Unknown</td>\n",
       "    </tr>\n",
       "    <tr>\n",
       "      <th>region</th>\n",
       "      <td>Central</td>\n",
       "      <td>Central</td>\n",
       "      <td>Central</td>\n",
       "      <td>Central</td>\n",
       "      <td>Central</td>\n",
       "    </tr>\n",
       "    <tr>\n",
       "      <th>datesYear</th>\n",
       "      <td>2008</td>\n",
       "      <td>2008</td>\n",
       "      <td>2008</td>\n",
       "      <td>2008</td>\n",
       "      <td>2008</td>\n",
       "    </tr>\n",
       "    <tr>\n",
       "      <th>datesMonth</th>\n",
       "      <td>1</td>\n",
       "      <td>1</td>\n",
       "      <td>12</td>\n",
       "      <td>12</td>\n",
       "      <td>12</td>\n",
       "    </tr>\n",
       "    <tr>\n",
       "      <th>datesWeek</th>\n",
       "      <td>1</td>\n",
       "      <td>1</td>\n",
       "      <td>1</td>\n",
       "      <td>1</td>\n",
       "      <td>1</td>\n",
       "    </tr>\n",
       "    <tr>\n",
       "      <th>datesDay</th>\n",
       "      <td>3</td>\n",
       "      <td>2</td>\n",
       "      <td>31</td>\n",
       "      <td>31</td>\n",
       "      <td>31</td>\n",
       "    </tr>\n",
       "    <tr>\n",
       "      <th>datesDayofweek</th>\n",
       "      <td>3</td>\n",
       "      <td>2</td>\n",
       "      <td>2</td>\n",
       "      <td>2</td>\n",
       "      <td>2</td>\n",
       "    </tr>\n",
       "    <tr>\n",
       "      <th>datesDayofyear</th>\n",
       "      <td>3</td>\n",
       "      <td>2</td>\n",
       "      <td>366</td>\n",
       "      <td>366</td>\n",
       "      <td>366</td>\n",
       "    </tr>\n",
       "  </tbody>\n",
       "</table>\n",
       "</div>"
      ],
      "text/plain": [
       "                                            0                 1  \\\n",
       "ชื่อโรงพยาบาลที่รับผู้บาดเจ็บ         กรุงเทพ  กรุงเทพคริสเตียน   \n",
       "เพศ                                      หญิง              หญิง   \n",
       "ถนนที่เกิดเหตุ                        ในเมือง           ในเมือง   \n",
       "สถานะ                               ผู้ชับขี่         ผู้ชับขี่   \n",
       "รถผู้บาดเจ็บ                   รถเก๋ง/แท็กซี่       จักรยานยนต์   \n",
       "มาตรการ                               เข็มขัด           ใส่หมวก   \n",
       "การดื่มสุรา                           ไม่ดื่ม           ไม่ดื่ม   \n",
       "Refer-Admit                               ไม่             admit   \n",
       "จำนวนวันรักษา                               0                 0   \n",
       "ประเภทหน่วยงาน                          เอกชน             เอกชน   \n",
       "จำนวนเตียงจริง_2559                       403               198   \n",
       "result                                      1                 1   \n",
       "is_year_end                                 0                 0   \n",
       "is_new_year                                 0                 0   \n",
       "BLS                                         0                 0   \n",
       "ALS                                         0                 0   \n",
       "ILS                                         0                 0   \n",
       "vehicle                                  Self            Medium   \n",
       "age                              early senior             youth   \n",
       "region                                Central           Central   \n",
       "datesYear                                2008              2008   \n",
       "datesMonth                                  1                 1   \n",
       "datesWeek                                   1                 1   \n",
       "datesDay                                    3                 2   \n",
       "datesDayofweek                              3                 2   \n",
       "datesDayofyear                              3                 2   \n",
       "\n",
       "                                              2                 3  \\\n",
       "ชื่อโรงพยาบาลที่รับผู้บาดเจ็บ  กรุงเทพคริสเตียน  กรุงเทพคริสเตียน   \n",
       "เพศ                                        หญิง              หญิง   \n",
       "ถนนที่เกิดเหตุ                          ในเมือง           ในเมือง   \n",
       "สถานะ                                 ผู้โดยสาร         ผู้โดยสาร   \n",
       "รถผู้บาดเจ็บ                        จักรยานยนต์       จักรยานยนต์   \n",
       "มาตรการ                                  ไม่ใส่           ใส่หมวก   \n",
       "การดื่มสุรา                             ไม่ดื่ม           ไม่ดื่ม   \n",
       "Refer-Admit                                 ไม่               ไม่   \n",
       "จำนวนวันรักษา                                 0                 0   \n",
       "ประเภทหน่วยงาน                            เอกชน             เอกชน   \n",
       "จำนวนเตียงจริง_2559                         198               198   \n",
       "result                                        1                 1   \n",
       "is_year_end                                   1                 1   \n",
       "is_new_year                                   0                 0   \n",
       "BLS                                           0                 0   \n",
       "ALS                                           0                 0   \n",
       "ILS                                           0                 0   \n",
       "vehicle                                  Medium            Medium   \n",
       "age                                     Unknown           Unknown   \n",
       "region                                  Central           Central   \n",
       "datesYear                                  2008              2008   \n",
       "datesMonth                                   12                12   \n",
       "datesWeek                                     1                 1   \n",
       "datesDay                                     31                31   \n",
       "datesDayofweek                                2                 2   \n",
       "datesDayofyear                              366               366   \n",
       "\n",
       "                                              4  \n",
       "ชื่อโรงพยาบาลที่รับผู้บาดเจ็บ  กรุงเทพคริสเตียน  \n",
       "เพศ                                         ชาย  \n",
       "ถนนที่เกิดเหตุ                          ในเมือง  \n",
       "สถานะ                                 ผู้ชับขี่  \n",
       "รถผู้บาดเจ็บ                        จักรยานยนต์  \n",
       "มาตรการ                                 ใส่หมวก  \n",
       "การดื่มสุรา                                ดื่ม  \n",
       "Refer-Admit                                 ไม่  \n",
       "จำนวนวันรักษา                                 0  \n",
       "ประเภทหน่วยงาน                            เอกชน  \n",
       "จำนวนเตียงจริง_2559                         198  \n",
       "result                                        1  \n",
       "is_year_end                                   1  \n",
       "is_new_year                                   0  \n",
       "BLS                                           0  \n",
       "ALS                                           0  \n",
       "ILS                                           0  \n",
       "vehicle                                  Medium  \n",
       "age                                     Unknown  \n",
       "region                                  Central  \n",
       "datesYear                                  2008  \n",
       "datesMonth                                   12  \n",
       "datesWeek                                     1  \n",
       "datesDay                                     31  \n",
       "datesDayofweek                                2  \n",
       "datesDayofyear                              366  "
      ]
     },
     "execution_count": 80,
     "metadata": {},
     "output_type": "execute_result"
    }
   ],
   "source": [
    "df_raw.head().T"
   ]
  },
  {
   "cell_type": "code",
   "execution_count": 81,
   "metadata": {},
   "outputs": [],
   "source": [
    "df_raw.iloc[ran_m,6] = 'ดื่ม'\n",
    "df_raw.iloc[list(set(idxm) - set(ran_m)),6] = 'ไม่ดื่ม'\n",
    "df_raw.iloc[ran_f,6] = 'ดื่ม'\n",
    "df_raw.iloc[list(set(idxf) - set(ran_f)),6] = 'ไม่ดื่ม'"
   ]
  },
  {
   "cell_type": "code",
   "execution_count": 82,
   "metadata": {},
   "outputs": [
    {
     "data": {
      "text/html": [
       "<div>\n",
       "<style scoped>\n",
       "    .dataframe tbody tr th:only-of-type {\n",
       "        vertical-align: middle;\n",
       "    }\n",
       "\n",
       "    .dataframe tbody tr th {\n",
       "        vertical-align: top;\n",
       "    }\n",
       "\n",
       "    .dataframe thead th {\n",
       "        text-align: right;\n",
       "    }\n",
       "</style>\n",
       "<table border=\"1\" class=\"dataframe\">\n",
       "  <thead>\n",
       "    <tr style=\"text-align: right;\">\n",
       "      <th></th>\n",
       "      <th>ชื่อโรงพยาบาลที่รับผู้บาดเจ็บ</th>\n",
       "      <th>เพศ</th>\n",
       "      <th>ถนนที่เกิดเหตุ</th>\n",
       "      <th>สถานะ</th>\n",
       "      <th>รถผู้บาดเจ็บ</th>\n",
       "      <th>มาตรการ</th>\n",
       "      <th>การดื่มสุรา</th>\n",
       "      <th>Refer-Admit</th>\n",
       "      <th>จำนวนวันรักษา</th>\n",
       "      <th>ประเภทหน่วยงาน</th>\n",
       "      <th>...</th>\n",
       "      <th>ILS</th>\n",
       "      <th>vehicle</th>\n",
       "      <th>age</th>\n",
       "      <th>region</th>\n",
       "      <th>datesYear</th>\n",
       "      <th>datesMonth</th>\n",
       "      <th>datesWeek</th>\n",
       "      <th>datesDay</th>\n",
       "      <th>datesDayofweek</th>\n",
       "      <th>datesDayofyear</th>\n",
       "    </tr>\n",
       "  </thead>\n",
       "  <tbody>\n",
       "  </tbody>\n",
       "</table>\n",
       "<p>0 rows × 26 columns</p>\n",
       "</div>"
      ],
      "text/plain": [
       "Empty DataFrame\n",
       "Columns: [ชื่อโรงพยาบาลที่รับผู้บาดเจ็บ, เพศ, ถนนที่เกิดเหตุ, สถานะ, รถผู้บาดเจ็บ, มาตรการ, การดื่มสุรา, Refer-Admit, จำนวนวันรักษา, ประเภทหน่วยงาน, จำนวนเตียงจริง_2559, result, is_year_end, is_new_year, BLS, ALS, ILS, vehicle, age, region, datesYear, datesMonth, datesWeek, datesDay, datesDayofweek, datesDayofyear]\n",
       "Index: []\n",
       "\n",
       "[0 rows x 26 columns]"
      ]
     },
     "execution_count": 82,
     "metadata": {},
     "output_type": "execute_result"
    }
   ],
   "source": [
    "df_raw.loc[df_raw['การดื่มสุรา']==\"ไม่ทราบ\"]"
   ]
  },
  {
   "cell_type": "code",
   "execution_count": 83,
   "metadata": {},
   "outputs": [],
   "source": [
    "train_cats(df_raw)"
   ]
  },
  {
   "cell_type": "code",
   "execution_count": 84,
   "metadata": {},
   "outputs": [],
   "source": [
    "df, y, nas, mapper = proc_df(df_raw, 'result', do_scale=True)"
   ]
  },
  {
   "cell_type": "code",
   "execution_count": 85,
   "metadata": {
    "scrolled": false
   },
   "outputs": [],
   "source": [
    "df_raw.to_feather(f'{PATH}df')\n",
    "df_raw = pd.read_feather(f'{PATH}df')"
   ]
  },
  {
   "cell_type": "code",
   "execution_count": 86,
   "metadata": {},
   "outputs": [
    {
     "data": {
      "text/plain": [
       "((191830, 26), (191830,), (24117, 26))"
      ]
     },
     "execution_count": 86,
     "metadata": {},
     "output_type": "execute_result"
    }
   ],
   "source": [
    "def split_vals(a,n): return a[:n].copy(), a[n:].copy()\n",
    "\n",
    "n_valid = 24117  # Latest year (2015)\n",
    "n_trn = len(df)-n_valid\n",
    "raw_train, raw_valid = split_vals(df_raw, n_trn)\n",
    "X_train, X_valid = split_vals(df, n_trn)\n",
    "y_train, y_valid = split_vals(y, n_trn)\n",
    "\n",
    "X_train.shape, y_train.shape, X_valid.shape"
   ]
  },
  {
   "cell_type": "code",
   "execution_count": 87,
   "metadata": {},
   "outputs": [
    {
     "name": "stdout",
     "output_type": "stream",
     "text": [
      "[array([1, 1, 1, ..., 1, 1, 1]), array([1, 1, 1, ..., 1, 1, 1]), 0.98501798467393009, 0.98490691213666703, 0.98331335036229994]\n"
     ]
    }
   ],
   "source": [
    "df_trn2, y_trn, nas = proc_df(df_raw, 'result')\n",
    "m = RandomForestClassifier(n_estimators=40,class_weight=\"balanced\", min_samples_leaf=3, max_features=0.6, n_jobs=-1, oob_score=True)\n",
    "m.fit(X_train, y_train)\n",
    "print_score(m)"
   ]
  },
  {
   "cell_type": "code",
   "execution_count": 88,
   "metadata": {},
   "outputs": [
    {
     "data": {
      "text/html": [
       "<div>\n",
       "<style scoped>\n",
       "    .dataframe tbody tr th:only-of-type {\n",
       "        vertical-align: middle;\n",
       "    }\n",
       "\n",
       "    .dataframe tbody tr th {\n",
       "        vertical-align: top;\n",
       "    }\n",
       "\n",
       "    .dataframe thead th {\n",
       "        text-align: right;\n",
       "    }\n",
       "</style>\n",
       "<table border=\"1\" class=\"dataframe\">\n",
       "  <thead>\n",
       "    <tr style=\"text-align: right;\">\n",
       "      <th></th>\n",
       "      <th>cols</th>\n",
       "      <th>imp</th>\n",
       "    </tr>\n",
       "  </thead>\n",
       "  <tbody>\n",
       "    <tr>\n",
       "      <th>0</th>\n",
       "      <td>ชื่อโรงพยาบาลที่รับผู้บาดเจ็บ</td>\n",
       "      <td>0.139893</td>\n",
       "    </tr>\n",
       "    <tr>\n",
       "      <th>16</th>\n",
       "      <td>vehicle</td>\n",
       "      <td>0.116007</td>\n",
       "    </tr>\n",
       "    <tr>\n",
       "      <th>10</th>\n",
       "      <td>จำนวนเตียงจริง_2559</td>\n",
       "      <td>0.104064</td>\n",
       "    </tr>\n",
       "    <tr>\n",
       "      <th>17</th>\n",
       "      <td>age</td>\n",
       "      <td>0.055122</td>\n",
       "    </tr>\n",
       "    <tr>\n",
       "      <th>14</th>\n",
       "      <td>ALS</td>\n",
       "      <td>0.052880</td>\n",
       "    </tr>\n",
       "    <tr>\n",
       "      <th>19</th>\n",
       "      <td>datesYear</td>\n",
       "      <td>0.051816</td>\n",
       "    </tr>\n",
       "    <tr>\n",
       "      <th>23</th>\n",
       "      <td>datesDayofweek</td>\n",
       "      <td>0.047420</td>\n",
       "    </tr>\n",
       "    <tr>\n",
       "      <th>4</th>\n",
       "      <td>รถผู้บาดเจ็บ</td>\n",
       "      <td>0.045378</td>\n",
       "    </tr>\n",
       "    <tr>\n",
       "      <th>5</th>\n",
       "      <td>มาตรการ</td>\n",
       "      <td>0.044232</td>\n",
       "    </tr>\n",
       "    <tr>\n",
       "      <th>18</th>\n",
       "      <td>region</td>\n",
       "      <td>0.042615</td>\n",
       "    </tr>\n",
       "  </tbody>\n",
       "</table>\n",
       "</div>"
      ],
      "text/plain": [
       "                             cols       imp\n",
       "0   ชื่อโรงพยาบาลที่รับผู้บาดเจ็บ  0.139893\n",
       "16                        vehicle  0.116007\n",
       "10            จำนวนเตียงจริง_2559  0.104064\n",
       "17                            age  0.055122\n",
       "14                            ALS  0.052880\n",
       "19                      datesYear  0.051816\n",
       "23                 datesDayofweek  0.047420\n",
       "4                    รถผู้บาดเจ็บ  0.045378\n",
       "5                         มาตรการ  0.044232\n",
       "18                         region  0.042615"
      ]
     },
     "execution_count": 88,
     "metadata": {},
     "output_type": "execute_result"
    }
   ],
   "source": [
    "fi = rf_feat_importance(m, df_trn2); fi[:10]"
   ]
  },
  {
   "cell_type": "code",
   "execution_count": 89,
   "metadata": {
    "scrolled": true
   },
   "outputs": [
    {
     "data": {
      "image/png": "[encoded data removed]",
      "text/plain": [
       "<matplotlib.figure.Figure at 0x1c1ba24518>"
      ]
     },
     "metadata": {},
     "output_type": "display_data"
    }
   ],
   "source": [
    "plot_fi(fi[:30]);"
   ]
  },
  {
   "cell_type": "markdown",
   "metadata": {},
   "source": [
    "WHOA!! Look at here. Drinking alcohol is now fall to rank 19th. This mean when accident occur, drinkers weren't dead more than non-drinkers. But drinkers may caused incident of accident more than non-drinkers anyway."
   ]
  },
  {
   "cell_type": "code",
   "execution_count": 90,
   "metadata": {},
   "outputs": [
    {
     "data": {
      "text/plain": [
       "24"
      ]
     },
     "execution_count": 90,
     "metadata": {},
     "output_type": "execute_result"
    }
   ],
   "source": [
    "to_keep = fi[fi.imp>0.005].cols; len(to_keep)"
   ]
  },
  {
   "cell_type": "code",
   "execution_count": 91,
   "metadata": {},
   "outputs": [],
   "source": [
    "df_keep = df[to_keep].copy()\n",
    "X_train, X_valid = split_vals(df_keep, n_trn)"
   ]
  },
  {
   "cell_type": "code",
   "execution_count": 92,
   "metadata": {},
   "outputs": [
    {
     "name": "stdout",
     "output_type": "stream",
     "text": [
      "[array([1, 1, 1, ..., 1, 1, 1]), array([1, 1, 1, ..., 1, 1, 1]), 0.98485117030704272, 0.98478251855537591, 0.98333941510712608]\n"
     ]
    }
   ],
   "source": [
    "m = RandomForestClassifier(n_estimators=40, min_samples_leaf=3, max_features=0.5,\n",
    "                          n_jobs=-1, oob_score=True, class_weight='balanced')\n",
    "m.fit(X_train, y_train)\n",
    "print_score(m)"
   ]
  },
  {
   "cell_type": "code",
   "execution_count": 93,
   "metadata": {},
   "outputs": [
    {
     "data": {
      "text/html": [
       "<div>\n",
       "<style scoped>\n",
       "    .dataframe tbody tr th:only-of-type {\n",
       "        vertical-align: middle;\n",
       "    }\n",
       "\n",
       "    .dataframe tbody tr th {\n",
       "        vertical-align: top;\n",
       "    }\n",
       "\n",
       "    .dataframe thead th {\n",
       "        text-align: right;\n",
       "    }\n",
       "</style>\n",
       "<table border=\"1\" class=\"dataframe\">\n",
       "  <thead>\n",
       "    <tr style=\"text-align: right;\">\n",
       "      <th></th>\n",
       "      <th>cols</th>\n",
       "      <th>imp</th>\n",
       "    </tr>\n",
       "  </thead>\n",
       "  <tbody>\n",
       "    <tr>\n",
       "      <th>0</th>\n",
       "      <td>ชื่อโรงพยาบาลที่รับผู้บาดเจ็บ</td>\n",
       "      <td>0.137859</td>\n",
       "    </tr>\n",
       "    <tr>\n",
       "      <th>1</th>\n",
       "      <td>vehicle</td>\n",
       "      <td>0.110970</td>\n",
       "    </tr>\n",
       "    <tr>\n",
       "      <th>2</th>\n",
       "      <td>จำนวนเตียงจริง_2559</td>\n",
       "      <td>0.104325</td>\n",
       "    </tr>\n",
       "    <tr>\n",
       "      <th>3</th>\n",
       "      <td>age</td>\n",
       "      <td>0.057149</td>\n",
       "    </tr>\n",
       "    <tr>\n",
       "      <th>5</th>\n",
       "      <td>datesYear</td>\n",
       "      <td>0.049674</td>\n",
       "    </tr>\n",
       "    <tr>\n",
       "      <th>4</th>\n",
       "      <td>ALS</td>\n",
       "      <td>0.048856</td>\n",
       "    </tr>\n",
       "    <tr>\n",
       "      <th>8</th>\n",
       "      <td>มาตรการ</td>\n",
       "      <td>0.048166</td>\n",
       "    </tr>\n",
       "    <tr>\n",
       "      <th>6</th>\n",
       "      <td>datesDayofweek</td>\n",
       "      <td>0.047434</td>\n",
       "    </tr>\n",
       "    <tr>\n",
       "      <th>7</th>\n",
       "      <td>รถผู้บาดเจ็บ</td>\n",
       "      <td>0.046187</td>\n",
       "    </tr>\n",
       "    <tr>\n",
       "      <th>9</th>\n",
       "      <td>region</td>\n",
       "      <td>0.043471</td>\n",
       "    </tr>\n",
       "  </tbody>\n",
       "</table>\n",
       "</div>"
      ],
      "text/plain": [
       "                            cols       imp\n",
       "0  ชื่อโรงพยาบาลที่รับผู้บาดเจ็บ  0.137859\n",
       "1                        vehicle  0.110970\n",
       "2            จำนวนเตียงจริง_2559  0.104325\n",
       "3                            age  0.057149\n",
       "5                      datesYear  0.049674\n",
       "4                            ALS  0.048856\n",
       "8                        มาตรการ  0.048166\n",
       "6                 datesDayofweek  0.047434\n",
       "7                   รถผู้บาดเจ็บ  0.046187\n",
       "9                         region  0.043471"
      ]
     },
     "execution_count": 93,
     "metadata": {},
     "output_type": "execute_result"
    }
   ],
   "source": [
    "fi = rf_feat_importance(m, df_keep); fi[:10]"
   ]
  },
  {
   "cell_type": "code",
   "execution_count": 94,
   "metadata": {
    "scrolled": false
   },
   "outputs": [
    {
     "data": {
      "image/png": "[encoded data removed]",
      "text/plain": [
       "<matplotlib.figure.Figure at 0x1c1b949748>"
      ]
     },
     "metadata": {},
     "output_type": "display_data"
    }
   ],
   "source": [
    "plot_fi(fi[:30]);"
   ]
  },
  {
   "cell_type": "markdown",
   "metadata": {},
   "source": [
    "Next section, we will remove ชื่อโรงพยาบาลที่รับผู้บาดเจ็บ because it did not tell nything much."
   ]
  },
  {
   "cell_type": "code",
   "execution_count": 23,
   "metadata": {},
   "outputs": [],
   "source": [
    "#Try drop hosp name\n",
    "df_raw = pd.read_feather(f'{PATH}df')\n",
    "df_nohosp = df_raw.copy()"
   ]
  },
  {
   "cell_type": "code",
   "execution_count": 24,
   "metadata": {},
   "outputs": [],
   "source": [
    "df_nohosp.drop([\"ชื่อโรงพยาบาลที่รับผู้บาดเจ็บ\"], axis=1, inplace=True)"
   ]
  },
  {
   "cell_type": "code",
   "execution_count": 26,
   "metadata": {},
   "outputs": [],
   "source": [
    "df_trn2, y_trn, nas = proc_df(df_nohosp, 'result', max_n_cat=15)"
   ]
  },
  {
   "cell_type": "code",
   "execution_count": null,
   "metadata": {},
   "outputs": [],
   "source": []
  },
  {
   "cell_type": "code",
   "execution_count": 28,
   "metadata": {},
   "outputs": [
    {
     "data": {
      "text/plain": [
       "((191830, 25), (191830,), (24117, 25))"
      ]
     },
     "execution_count": 28,
     "metadata": {},
     "output_type": "execute_result"
    }
   ],
   "source": [
    "def split_vals(a,n): return a[:n].copy(), a[n:].copy()\n",
    "\n",
    "n_valid = 24117  # Latest year (2015)\n",
    "n_trn = len(df_trn2)-n_valid\n",
    "#raw_train, raw_valid = split_vals(df_raw, n_trn)\n",
    "X_train, X_valid = split_vals(df_trn2, n_trn)\n",
    "y_train, y_valid = split_vals(y_trn, n_trn)\n",
    "\n",
    "X_train.shape, y_train.shape, X_valid.shape"
   ]
  },
  {
   "cell_type": "code",
   "execution_count": 17,
   "metadata": {},
   "outputs": [
    {
     "name": "stdout",
     "output_type": "stream",
     "text": [
      "[array([1, 1, 1, ..., 1, 1, 1]), array([1, 1, 1, ..., 1, 1, 1]), 0.9973830996194547, 0.98337272463407555, 0.98074336652244176]\n"
     ]
    }
   ],
   "source": [
    "m = RandomForestClassifier(n_estimators=40,class_weight=\"balanced\", min_samples_leaf=3, max_features=0.6, n_jobs=-1, oob_score=True)\n",
    "m.fit(X_train, y_train)\n",
    "print_score(m)"
   ]
  },
  {
   "cell_type": "code",
   "execution_count": 18,
   "metadata": {},
   "outputs": [
    {
     "data": {
      "text/html": [
       "<div>\n",
       "<style scoped>\n",
       "    .dataframe tbody tr th:only-of-type {\n",
       "        vertical-align: middle;\n",
       "    }\n",
       "\n",
       "    .dataframe tbody tr th {\n",
       "        vertical-align: top;\n",
       "    }\n",
       "\n",
       "    .dataframe thead th {\n",
       "        text-align: right;\n",
       "    }\n",
       "</style>\n",
       "<table border=\"1\" class=\"dataframe\">\n",
       "  <thead>\n",
       "    <tr style=\"text-align: right;\">\n",
       "      <th></th>\n",
       "      <th>cols</th>\n",
       "      <th>imp</th>\n",
       "    </tr>\n",
       "  </thead>\n",
       "  <tbody>\n",
       "    <tr>\n",
       "      <th>1</th>\n",
       "      <td>จำนวนเตียงจริง_2559</td>\n",
       "      <td>0.119036</td>\n",
       "    </tr>\n",
       "    <tr>\n",
       "      <th>43</th>\n",
       "      <td>มาตรการ_ไม่ทราบ</td>\n",
       "      <td>0.062733</td>\n",
       "    </tr>\n",
       "    <tr>\n",
       "      <th>7</th>\n",
       "      <td>datesYear</td>\n",
       "      <td>0.054224</td>\n",
       "    </tr>\n",
       "    <tr>\n",
       "      <th>5</th>\n",
       "      <td>ALS</td>\n",
       "      <td>0.052460</td>\n",
       "    </tr>\n",
       "    <tr>\n",
       "      <th>11</th>\n",
       "      <td>datesDayofweek</td>\n",
       "      <td>0.051260</td>\n",
       "    </tr>\n",
       "    <tr>\n",
       "      <th>18</th>\n",
       "      <td>ถนนที่เกิดเหตุ_ทางหลวง</td>\n",
       "      <td>0.036534</td>\n",
       "    </tr>\n",
       "    <tr>\n",
       "      <th>12</th>\n",
       "      <td>datesDayofyear</td>\n",
       "      <td>0.035437</td>\n",
       "    </tr>\n",
       "    <tr>\n",
       "      <th>10</th>\n",
       "      <td>datesDay</td>\n",
       "      <td>0.031054</td>\n",
       "    </tr>\n",
       "    <tr>\n",
       "      <th>0</th>\n",
       "      <td>จำนวนวันรักษา</td>\n",
       "      <td>0.024076</td>\n",
       "    </tr>\n",
       "    <tr>\n",
       "      <th>62</th>\n",
       "      <td>vehicle_Self</td>\n",
       "      <td>0.022904</td>\n",
       "    </tr>\n",
       "  </tbody>\n",
       "</table>\n",
       "</div>"
      ],
      "text/plain": [
       "                      cols       imp\n",
       "1      จำนวนเตียงจริง_2559  0.119036\n",
       "43         มาตรการ_ไม่ทราบ  0.062733\n",
       "7                datesYear  0.054224\n",
       "5                      ALS  0.052460\n",
       "11          datesDayofweek  0.051260\n",
       "18  ถนนที่เกิดเหตุ_ทางหลวง  0.036534\n",
       "12          datesDayofyear  0.035437\n",
       "10                datesDay  0.031054\n",
       "0            จำนวนวันรักษา  0.024076\n",
       "62            vehicle_Self  0.022904"
      ]
     },
     "execution_count": 18,
     "metadata": {},
     "output_type": "execute_result"
    }
   ],
   "source": [
    "fi = rf_feat_importance(m, df_trn2); fi[:10]"
   ]
  },
  {
   "cell_type": "code",
   "execution_count": 101,
   "metadata": {},
   "outputs": [
    {
     "data": {
      "image/png": "[encoded data removed]",
      "text/plain": [
       "<matplotlib.figure.Figure at 0x1c1add87f0>"
      ]
     },
     "metadata": {},
     "output_type": "display_data"
    }
   ],
   "source": [
    "plot_fi(fi[:30]);"
   ]
  },
  {
   "cell_type": "markdown",
   "metadata": {},
   "source": [
    "So here is it, we can keep gather more data and fill in the missing data.\n"
   ]
  },
  {
   "cell_type": "code",
   "execution_count": null,
   "metadata": {},
   "outputs": [],
   "source": []
  },
  {
   "cell_type": "code",
   "execution_count": null,
   "metadata": {},
   "outputs": [],
   "source": []
  },
  {
   "cell_type": "code",
   "execution_count": null,
   "metadata": {},
   "outputs": [],
   "source": []
  },
  {
   "cell_type": "code",
   "execution_count": null,
   "metadata": {},
   "outputs": [],
   "source": []
  },
  {
   "cell_type": "markdown",
   "metadata": {},
   "source": [
    "Here we calculate recall, precise, and F-score. But as I told, this is a very unbalanced dataset. \n",
    "So it wouldn't help much in this dataset."
   ]
  },
  {
   "cell_type": "code",
   "execution_count": 87,
   "metadata": {},
   "outputs": [],
   "source": [
    "#Test with Imbalanced Learn"
   ]
  },
  {
   "cell_type": "code",
   "execution_count": 11,
   "metadata": {},
   "outputs": [],
   "source": [
    "from sklearn.ensemble import BaggingClassifier\n",
    "from sklearn.metrics import confusion_matrix\n",
    "from imblearn.datasets import make_imbalance\n",
    "from imblearn.ensemble import BalancedBaggingClassifier\n",
    "from sklearn.metrics import precision_recall_fscore_support"
   ]
  },
  {
   "cell_type": "code",
   "execution_count": 14,
   "metadata": {},
   "outputs": [
    {
     "name": "stdout",
     "output_type": "stream",
     "text": [
      "[array([0, 1, 1, ..., 0, 1, 1]), array([1, 1, 1, ..., 0, 1, 1]), 0.74472188917270499, 0.74652734585562053, 0.69628838033675655]\n"
     ]
    }
   ],
   "source": [
    "imb = BalancedBaggingClassifier(n_estimators=30, max_features=0.6, oob_score=True, n_jobs=-1)\n",
    "imb.fit(X_train, y_train)\n",
    "print_score(imb)"
   ]
  },
  {
   "cell_type": "code",
   "execution_count": 15,
   "metadata": {},
   "outputs": [],
   "source": [
    "#Compare m, imb using recall, precise, F_score"
   ]
  },
  {
   "cell_type": "code",
   "execution_count": 19,
   "metadata": {},
   "outputs": [
    {
     "name": "stdout",
     "output_type": "stream",
     "text": [
      "25 23691 58 343\n"
     ]
    }
   ],
   "source": [
    "tn, fp, fn, tp = confusion_matrix(y_valid,m.predict(X_valid)).ravel()\n",
    "print(tn,tp,fn,fp)"
   ]
  },
  {
   "cell_type": "code",
   "execution_count": 115,
   "metadata": {},
   "outputs": [
    {
     "data": {
      "text/plain": [
       "(0.98509569477311409, 0.99911575224219962, 0.99205619198929662, None)"
      ]
     },
     "execution_count": 115,
     "metadata": {},
     "output_type": "execute_result"
    }
   ],
   "source": [
    "precision_recall_fscore_support(y_valid,m.predict(X_valid), average='binary')"
   ]
  },
  {
   "cell_type": "code",
   "execution_count": 116,
   "metadata": {},
   "outputs": [
    {
     "name": "stdout",
     "output_type": "stream",
     "text": [
      "272 17789 5960 96\n"
     ]
    }
   ],
   "source": [
    "tn, fp, fn, tp = confusion_matrix(y_valid,imb.predict(X_valid)).ravel()\n",
    "print(tn,tp,fn,fp)"
   ]
  },
  {
   "cell_type": "code",
   "execution_count": 117,
   "metadata": {},
   "outputs": [
    {
     "data": {
      "text/plain": [
       "(0.99463237349734412, 0.74904206492904968, 0.85454196089734358, None)"
      ]
     },
     "execution_count": 117,
     "metadata": {},
     "output_type": "execute_result"
    }
   ],
   "source": [
    "precision_recall_fscore_support(y_valid,imb.predict(X_valid), average='binary')"
   ]
  },
  {
   "cell_type": "code",
   "execution_count": null,
   "metadata": {},
   "outputs": [],
   "source": []
  },
  {
   "cell_type": "code",
   "execution_count": 29,
   "metadata": {},
   "outputs": [],
   "source": [
    "#Removing redundant features\n",
    "from scipy.cluster import hierarchy as hc"
   ]
  },
  {
   "cell_type": "code",
   "execution_count": 45,
   "metadata": {},
   "outputs": [],
   "source": [
    "#Load data and do as previous section without onehotencoder\n",
    "df_raw = pd.read_feather(f'{PATH}df')\n",
    "df_nohosp = df_raw.copy()"
   ]
  },
  {
   "cell_type": "code",
   "execution_count": 46,
   "metadata": {},
   "outputs": [],
   "source": [
    "df_nohosp.drop([\"ชื่อโรงพยาบาลที่รับผู้บาดเจ็บ\"], axis=1, inplace=True)"
   ]
  },
  {
   "cell_type": "code",
   "execution_count": 26,
   "metadata": {},
   "outputs": [],
   "source": [
    "df_trn2, y_trn, nas = proc_df(df_nohosp, 'result')"
   ]
  },
  {
   "cell_type": "code",
   "execution_count": 28,
   "metadata": {},
   "outputs": [
    {
     "data": {
      "text/plain": [
       "((191830, 25), (191830,), (24117, 25))"
      ]
     },
     "execution_count": 28,
     "metadata": {},
     "output_type": "execute_result"
    }
   ],
   "source": [
    "def split_vals(a,n): return a[:n].copy(), a[n:].copy()\n",
    "\n",
    "n_valid = 24117  # Latest year (2015)\n",
    "n_trn = len(df_trn2)-n_valid\n",
    "#raw_train, raw_valid = split_vals(df_raw, n_trn)\n",
    "X_train, X_valid = split_vals(df_trn2, n_trn)\n",
    "y_train, y_valid = split_vals(y_trn, n_trn)\n",
    "\n",
    "X_train.shape, y_train.shape, X_valid.shape"
   ]
  },
  {
   "cell_type": "markdown",
   "metadata": {},
   "source": [
    "Here we will using correrations to assist us removing correrated features"
   ]
  },
  {
   "cell_type": "code",
   "execution_count": 30,
   "metadata": {},
   "outputs": [
    {
     "data": {
      "image/png": "[encoded data removed]",
      "text/plain": [
       "<matplotlib.figure.Figure at 0x1c2e199710>"
      ]
     },
     "metadata": {},
     "output_type": "display_data"
    }
   ],
   "source": [
    "corr = np.round(scipy.stats.spearmanr(df_trn2).correlation, 4)\n",
    "corr_condensed = hc.distance.squareform(1-corr)\n",
    "z = hc.linkage(corr_condensed, method='average')\n",
    "fig = plt.figure(figsize=(16,10))\n",
    "dendrogram = hc.dendrogram(z, labels=df_trn2.columns, orientation='left', leaf_font_size=16)\n",
    "plt.show()"
   ]
  },
  {
   "cell_type": "code",
   "execution_count": 31,
   "metadata": {},
   "outputs": [],
   "source": [
    "def get_oob(df):\n",
    "    m = RandomForestClassifier(n_estimators=30, class_weight='balanced', min_samples_leaf=5, max_features=0.6, n_jobs=-1, oob_score=True)\n",
    "    x, _ = split_vals(df, n_trn)\n",
    "    m.fit(x, y_train)\n",
    "    return m.oob_score_"
   ]
  },
  {
   "cell_type": "code",
   "execution_count": 32,
   "metadata": {},
   "outputs": [
    {
     "data": {
      "text/plain": [
       "0.97676067351300633"
      ]
     },
     "execution_count": 32,
     "metadata": {},
     "output_type": "execute_result"
    }
   ],
   "source": [
    "#Get baseline oob score\n",
    "get_oob(df_trn2)"
   ]
  },
  {
   "cell_type": "code",
   "execution_count": 33,
   "metadata": {},
   "outputs": [
    {
     "name": "stderr",
     "output_type": "stream",
     "text": [
      "/Users/macbookpro/anaconda3/envs/fastai/lib/python3.6/site-packages/sklearn/ensemble/forest.py:453: UserWarning: Some inputs do not have OOB scores. This probably means too few trees were used to compute any reliable oob estimates.\n",
      "  warn(\"Some inputs do not have OOB scores. \"\n",
      "/Users/macbookpro/anaconda3/envs/fastai/lib/python3.6/site-packages/sklearn/ensemble/forest.py:458: RuntimeWarning: invalid value encountered in true_divide\n",
      "  predictions[k].sum(axis=1)[:, np.newaxis])\n"
     ]
    },
    {
     "name": "stdout",
     "output_type": "stream",
     "text": [
      "is_year_end 0.976109054892\n",
      "datesMonth 0.976442683626\n",
      "datesDay 0.976286295157\n",
      "datesDayofyear 0.975942240525\n",
      "datesWeek 0.976197675025\n",
      "datesDayofweek 0.975462649221\n",
      "เพศ 0.975582547047\n"
     ]
    },
    {
     "name": "stderr",
     "output_type": "stream",
     "text": [
      "/Users/macbookpro/anaconda3/envs/fastai/lib/python3.6/site-packages/sklearn/ensemble/forest.py:453: UserWarning: Some inputs do not have OOB scores. This probably means too few trees were used to compute any reliable oob estimates.\n",
      "  warn(\"Some inputs do not have OOB scores. \"\n",
      "/Users/macbookpro/anaconda3/envs/fastai/lib/python3.6/site-packages/sklearn/ensemble/forest.py:458: RuntimeWarning: invalid value encountered in true_divide\n",
      "  predictions[k].sum(axis=1)[:, np.newaxis])\n"
     ]
    },
    {
     "name": "stdout",
     "output_type": "stream",
     "text": [
      "การดื่มสุรา 0.975311473701\n",
      "จำนวนเตียงจริง_2559 0.969311369442\n",
      "ประเภทหน่วยงาน 0.976166397331\n"
     ]
    }
   ],
   "source": [
    "#Now we try drop redundant features one-by-one and see if it changed our oob score much or not.\n",
    "for c in ('is_year_end', 'datesMonth', 'datesDay', 'datesDayofyear', 'datesWeek', 'datesDayofweek', 'เพศ', 'การดื่มสุรา','จำนวนเตียงจริง_2559', 'ประเภทหน่วยงาน'):\n",
    "    print(c, get_oob(df_trn2.drop(c, axis=1)))"
   ]
  },
  {
   "cell_type": "code",
   "execution_count": 34,
   "metadata": {},
   "outputs": [
    {
     "data": {
      "text/plain": [
       "0.96778918834384609"
      ]
     },
     "execution_count": 34,
     "metadata": {},
     "output_type": "execute_result"
    }
   ],
   "source": [
    "to_drop = ['is_year_end', 'datesMonth', 'datesDayofyear', 'datesWeek', 'เพศ', 'จำนวนเตียงจริง_2559', 'จำนวนเตียงจริง_2559_na']\n",
    "get_oob(df_trn2.drop(to_drop, axis=1))"
   ]
  },
  {
   "cell_type": "code",
   "execution_count": 35,
   "metadata": {},
   "outputs": [],
   "source": [
    "df_trn2.drop(to_drop, axis=1, inplace=True)\n",
    "X_train, X_valid = split_vals(df_trn2, n_trn)"
   ]
  },
  {
   "cell_type": "code",
   "execution_count": 99,
   "metadata": {},
   "outputs": [],
   "source": [
    "np.save('tmp/trn2_cols.npy', np.array(df_trn2.columns))"
   ]
  },
  {
   "cell_type": "code",
   "execution_count": 108,
   "metadata": {},
   "outputs": [],
   "source": [
    "keep_cols = np.load('tmp/trn2_cols.npy')\n",
    "df_trn2 = df[keep_cols]"
   ]
  },
  {
   "cell_type": "code",
   "execution_count": 36,
   "metadata": {},
   "outputs": [
    {
     "name": "stdout",
     "output_type": "stream",
     "text": [
      "[array([1, 1, 1, ..., 1, 1, 1]), array([1, 1, 1, ..., 1, 1, 1]), 0.99088776520877864, 0.98188000165858114, 0.9741489860814263]\n"
     ]
    }
   ],
   "source": [
    "X_train, X_valid = split_vals(df_trn2, n_trn)\n",
    "\n",
    "m = RandomForestClassifier(n_estimators=40,class_weight=\"balanced\", min_samples_leaf=3, max_features=0.6, n_jobs=-1, oob_score=True)\n",
    "m.fit(X_train, y_train)\n",
    "print_score(m)"
   ]
  },
  {
   "cell_type": "code",
   "execution_count": 37,
   "metadata": {},
   "outputs": [
    {
     "data": {
      "text/html": [
       "<div>\n",
       "<style scoped>\n",
       "    .dataframe tbody tr th:only-of-type {\n",
       "        vertical-align: middle;\n",
       "    }\n",
       "\n",
       "    .dataframe tbody tr th {\n",
       "        vertical-align: top;\n",
       "    }\n",
       "\n",
       "    .dataframe thead th {\n",
       "        text-align: right;\n",
       "    }\n",
       "</style>\n",
       "<table border=\"1\" class=\"dataframe\">\n",
       "  <thead>\n",
       "    <tr style=\"text-align: right;\">\n",
       "      <th></th>\n",
       "      <th>cols</th>\n",
       "      <th>imp</th>\n",
       "    </tr>\n",
       "  </thead>\n",
       "  <tbody>\n",
       "    <tr>\n",
       "      <th>12</th>\n",
       "      <td>vehicle</td>\n",
       "      <td>0.126507</td>\n",
       "    </tr>\n",
       "    <tr>\n",
       "      <th>13</th>\n",
       "      <td>age</td>\n",
       "      <td>0.088314</td>\n",
       "    </tr>\n",
       "    <tr>\n",
       "      <th>15</th>\n",
       "      <td>datesYear</td>\n",
       "      <td>0.085085</td>\n",
       "    </tr>\n",
       "    <tr>\n",
       "      <th>14</th>\n",
       "      <td>region</td>\n",
       "      <td>0.084288</td>\n",
       "    </tr>\n",
       "    <tr>\n",
       "      <th>17</th>\n",
       "      <td>datesDayofweek</td>\n",
       "      <td>0.082830</td>\n",
       "    </tr>\n",
       "    <tr>\n",
       "      <th>16</th>\n",
       "      <td>datesDay</td>\n",
       "      <td>0.080506</td>\n",
       "    </tr>\n",
       "    <tr>\n",
       "      <th>7</th>\n",
       "      <td>ประเภทหน่วยงาน</td>\n",
       "      <td>0.067407</td>\n",
       "    </tr>\n",
       "    <tr>\n",
       "      <th>0</th>\n",
       "      <td>ถนนที่เกิดเหตุ</td>\n",
       "      <td>0.057249</td>\n",
       "    </tr>\n",
       "    <tr>\n",
       "      <th>3</th>\n",
       "      <td>มาตรการ</td>\n",
       "      <td>0.056052</td>\n",
       "    </tr>\n",
       "    <tr>\n",
       "      <th>2</th>\n",
       "      <td>รถผู้บาดเจ็บ</td>\n",
       "      <td>0.055798</td>\n",
       "    </tr>\n",
       "  </tbody>\n",
       "</table>\n",
       "</div>"
      ],
      "text/plain": [
       "              cols       imp\n",
       "12         vehicle  0.126507\n",
       "13             age  0.088314\n",
       "15       datesYear  0.085085\n",
       "14          region  0.084288\n",
       "17  datesDayofweek  0.082830\n",
       "16        datesDay  0.080506\n",
       "7   ประเภทหน่วยงาน  0.067407\n",
       "0   ถนนที่เกิดเหตุ  0.057249\n",
       "3          มาตรการ  0.056052\n",
       "2     รถผู้บาดเจ็บ  0.055798"
      ]
     },
     "execution_count": 37,
     "metadata": {},
     "output_type": "execute_result"
    }
   ],
   "source": [
    "fi = rf_feat_importance(m, df_trn2); fi[:10]"
   ]
  },
  {
   "cell_type": "code",
   "execution_count": 40,
   "metadata": {},
   "outputs": [
    {
     "data": {
      "text/plain": [
       "<matplotlib.axes._subplots.AxesSubplot at 0x1c2e171ba8>"
      ]
     },
     "execution_count": 40,
     "metadata": {},
     "output_type": "execute_result"
    },
    {
     "data": {
      "image/png": "[encoded data removed]",
      "text/plain": [
       "<matplotlib.figure.Figure at 0x1c32bf7a90>"
      ]
     },
     "metadata": {},
     "output_type": "display_data"
    }
   ],
   "source": [
    "plot_fi(fi[:30])"
   ]
  },
  {
   "cell_type": "code",
   "execution_count": null,
   "metadata": {},
   "outputs": [],
   "source": []
  },
  {
   "cell_type": "code",
   "execution_count": null,
   "metadata": {},
   "outputs": [],
   "source": []
  },
  {
   "cell_type": "code",
   "execution_count": null,
   "metadata": {},
   "outputs": [],
   "source": []
  },
  {
   "cell_type": "code",
   "execution_count": null,
   "metadata": {},
   "outputs": [],
   "source": []
  },
  {
   "cell_type": "code",
   "execution_count": null,
   "metadata": {},
   "outputs": [],
   "source": []
  },
  {
   "cell_type": "code",
   "execution_count": null,
   "metadata": {},
   "outputs": [],
   "source": []
  },
  {
   "cell_type": "code",
   "execution_count": null,
   "metadata": {},
   "outputs": [],
   "source": []
  },
  {
   "cell_type": "code",
   "execution_count": 90,
   "metadata": {
    "collapsed": true
   },
   "outputs": [],
   "source": [
    "reset_rf_samples()"
   ]
  },
  {
   "cell_type": "code",
   "execution_count": 91,
   "metadata": {},
   "outputs": [
    {
     "name": "stdout",
     "output_type": "stream",
     "text": [
      "[array([1, 1, 1, ..., 1, 1, 1]), array([1, 1, 1, ..., 1, 1, 1]), 0.99868995404358785, 0.98424347970311399, 0.98201568911037396]\n"
     ]
    }
   ],
   "source": [
    "m = RandomForestClassifier(n_estimators=40,class_weight=\"balanced\", min_samples_leaf=3, max_features=0.5, n_jobs=-1, oob_score=True)\n",
    "m.fit(X_train, y_train)\n",
    "print_score(m)"
   ]
  },
  {
   "cell_type": "code",
   "execution_count": null,
   "metadata": {
    "collapsed": true
   },
   "outputs": [],
   "source": []
  },
  {
   "cell_type": "code",
   "execution_count": null,
   "metadata": {
    "collapsed": true
   },
   "outputs": [],
   "source": []
  },
  {
   "cell_type": "code",
   "execution_count": null,
   "metadata": {
    "collapsed": true
   },
   "outputs": [],
   "source": []
  },
  {
   "cell_type": "code",
   "execution_count": 41,
   "metadata": {},
   "outputs": [],
   "source": [
    "#Partial dependence\n",
    "from pdpbox import pdp\n",
    "from plotnine import *"
   ]
  },
  {
   "cell_type": "code",
   "execution_count": 42,
   "metadata": {},
   "outputs": [],
   "source": [
    "set_rf_samples(50000)"
   ]
  },
  {
   "cell_type": "code",
   "execution_count": 49,
   "metadata": {},
   "outputs": [
    {
     "data": {
      "text/plain": [
       "RandomForestClassifier(bootstrap=True, class_weight='balanced',\n",
       "            criterion='gini', max_depth=None, max_features=0.6,\n",
       "            max_leaf_nodes=None, min_impurity_decrease=0.0,\n",
       "            min_impurity_split=None, min_samples_leaf=3,\n",
       "            min_samples_split=2, min_weight_fraction_leaf=0.0,\n",
       "            n_estimators=40, n_jobs=-1, oob_score=False, random_state=None,\n",
       "            verbose=0, warm_start=False)"
      ]
     },
     "execution_count": 49,
     "metadata": {},
     "output_type": "execute_result"
    }
   ],
   "source": [
    "df_trn2, y_trn, nas = proc_df(df_nohosp, 'result', max_n_cat=15)\n",
    "X_train, X_valid = split_vals(df_trn2, n_trn)\n",
    "m = RandomForestClassifier(n_estimators=40, min_samples_leaf=3, max_features=0.6, n_jobs=-1, class_weight='balanced')\n",
    "m.fit(X_train, y_train)"
   ]
  },
  {
   "cell_type": "code",
   "execution_count": 50,
   "metadata": {
    "scrolled": false
   },
   "outputs": [
    {
     "data": {
      "image/png": "[encoded data removed]",
      "text/plain": [
       "<matplotlib.figure.Figure at 0x1c2a9daeb8>"
      ]
     },
     "metadata": {},
     "output_type": "display_data"
    }
   ],
   "source": [
    "plot_fi(rf_feat_importance(m, df_trn2)[:10]);"
   ]
  },
  {
   "cell_type": "markdown",
   "metadata": {},
   "source": [
    "Now we take a look at amount of beds. Is it really the caused of more dead? \n",
    "Were smaller hospitals doing worse than larger hospitals?"
   ]
  },
  {
   "cell_type": "code",
   "execution_count": 51,
   "metadata": {},
   "outputs": [
    {
     "data": {
      "image/png": "[encoded data removed]",
      "text/plain": [
       "<matplotlib.figure.Figure at 0x10f9f3a90>"
      ]
     },
     "metadata": {},
     "output_type": "display_data"
    }
   ],
   "source": [
    "df_raw.plot('จำนวนเตียงจริง_2559', 'result', 'scatter', alpha=0.01, figsize=(10,8));"
   ]
  },
  {
   "cell_type": "code",
   "execution_count": 67,
   "metadata": {},
   "outputs": [],
   "source": [
    "x_all = get_sample(df_raw[df_raw[\"จำนวนเตียงจริง_2559\"]<250], 500)"
   ]
  },
  {
   "cell_type": "code",
   "execution_count": 68,
   "metadata": {
    "scrolled": true
   },
   "outputs": [
    {
     "data": {
      "image/png": "[encoded data removed]",
      "text/plain": [
       "<matplotlib.figure.Figure at 0x1c2b949cf8>"
      ]
     },
     "metadata": {},
     "output_type": "display_data"
    },
    {
     "data": {
      "text/plain": [
       "<ggplot: (-9223372029290162544)>"
      ]
     },
     "execution_count": 68,
     "metadata": {},
     "output_type": "execute_result"
    }
   ],
   "source": [
    "ggplot(x_all, aes('จำนวนเตียงจริง_2559', 'result'))+stat_smooth(se=True, method='loess')"
   ]
  },
  {
   "cell_type": "markdown",
   "metadata": {},
   "source": [
    "Phew! seems that's not the case. Amount of beds didn't caused more dead."
   ]
  },
  {
   "cell_type": "code",
   "execution_count": 58,
   "metadata": {},
   "outputs": [
    {
     "data": {
      "image/png": "[encoded data removed]",
      "text/plain": [
       "<matplotlib.figure.Figure at 0x1c26a3ebe0>"
      ]
     },
     "metadata": {},
     "output_type": "display_data"
    }
   ],
   "source": [
    "fi = rf_feat_importance(m, df_trn2)\n",
    "plot_fi(fi[:25]);"
   ]
  },
  {
   "cell_type": "code",
   "execution_count": 284,
   "metadata": {
    "collapsed": true
   },
   "outputs": [],
   "source": []
  },
  {
   "cell_type": "code",
   "execution_count": null,
   "metadata": {
    "collapsed": true
   },
   "outputs": [],
   "source": []
  },
  {
   "cell_type": "code",
   "execution_count": null,
   "metadata": {
    "collapsed": true
   },
   "outputs": [],
   "source": []
  }
 ],
 "metadata": {
  "kernelspec": {
   "display_name": "Python 3",
   "language": "python",
   "name": "python3"
  },
  "language_info": {
   "codemirror_mode": {
    "name": "ipython",
    "version": 3
   },
   "file_extension": ".py",
   "mimetype": "text/x-python",
   "name": "python",
   "nbconvert_exporter": "python",
   "pygments_lexer": "ipython3",
   "version": "3.6.4"
  }
 },
 "nbformat": 4,
 "nbformat_minor": 2
}
